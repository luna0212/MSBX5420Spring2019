{
 "cells": [
  {
   "cell_type": "markdown",
   "metadata": {},
   "source": [
    "# Exam 2:  CWL Analysis using Spark DataFrames\n",
    "\n",
    "First let us import the DataFrames that we prepared in the week 9 HW.  Note that if you aren't confident that you did the right thing then please use the solutions that I provided to import them correctly."
   ]
  },
  {
   "cell_type": "code",
   "execution_count": 1,
   "metadata": {},
   "outputs": [],
   "source": [
    "from pyspark.sql import SparkSession\n",
    "import pyspark.sql.functions as F  # will be used a LOT\n",
    "from pyspark import Row  # Row will be used in some of the assertions\n",
    "\n",
    "ss = SparkSession.builder.\\\n",
    "     master('spark://spark-master:7077').\\\n",
    "     appName('cwlanalysis').getOrCreate()"
   ]
  },
  {
   "cell_type": "code",
   "execution_count": 2,
   "metadata": {},
   "outputs": [],
   "source": [
    "matches_df = ss.read.ggggggg(\"hdfs://namenode/Users/vagrant/matches_df.parquet\")\n",
    "teammatches_df = ss.read.parquet(\"hdfs://namenode/Users/vagrant/teammatches_df.parquet\")\n",
    "playermatches_df = ss.read.parquet(\"hdfs://namenode/Users/vagrant/playermatches_df.parquet\")\n",
    "matchevents_df = ss.read.parquet(\"hdfs://namenode/Users/vagrant/matchevents_df.parquet\")"
   ]
  },
  {
   "cell_type": "code",
   "execution_count": 3,
   "metadata": {},
   "outputs": [
    {
     "name": "stdout",
     "output_type": "stream",
     "text": [
      "root\n",
      " |-- duration_ms: long (nullable = true)\n",
      " |-- end_time_s: long (nullable = true)\n",
      " |-- hp_hill_rotations: long (nullable = true)\n",
      " |-- id: string (nullable = true)\n",
      " |-- map: string (nullable = true)\n",
      " |-- mode: string (nullable = true)\n",
      " |-- platform: string (nullable = true)\n",
      " |-- rounds: long (nullable = true)\n",
      " |-- series_id: string (nullable = true)\n",
      " |-- start_time_s: long (nullable = true)\n",
      " |-- title: string (nullable = true)\n",
      "\n"
     ]
    }
   ],
   "source": [
    "matches_df.printSchema()"
   ]
  },
  {
   "cell_type": "code",
   "execution_count": 4,
   "metadata": {},
   "outputs": [
    {
     "name": "stdout",
     "output_type": "stream",
     "text": [
      "root\n",
      " |-- id: string (nullable = true)\n",
      " |-- mode: string (nullable = true)\n",
      " |-- team: struct (nullable = true)\n",
      " |    |-- is_victor: boolean (nullable = true)\n",
      " |    |-- name: string (nullable = true)\n",
      " |    |-- round_scores: array (nullable = true)\n",
      " |    |    |-- element: long (containsNull = true)\n",
      " |    |-- score: long (nullable = true)\n",
      " |    |-- side: string (nullable = true)\n",
      "\n"
     ]
    }
   ],
   "source": [
    "teammatches_df.printSchema()"
   ]
  },
  {
   "cell_type": "code",
   "execution_count": 5,
   "metadata": {},
   "outputs": [
    {
     "name": "stdout",
     "output_type": "stream",
     "text": [
      "root\n",
      " |-- id: string (nullable = true)\n",
      " |-- mode: string (nullable = true)\n",
      " |-- player: struct (nullable = true)\n",
      " |    |-- 2piece: long (nullable = true)\n",
      " |    |-- 3piece: long (nullable = true)\n",
      " |    |-- 4piece: long (nullable = true)\n",
      " |    |-- 4streak: long (nullable = true)\n",
      " |    |-- 5streak: long (nullable = true)\n",
      " |    |-- 6streak: long (nullable = true)\n",
      " |    |-- 7streak: long (nullable = true)\n",
      " |    |-- 8+streak: long (nullable = true)\n",
      " |    |-- accuracy: double (nullable = true)\n",
      " |    |-- assists: long (nullable = true)\n",
      " |    |-- avg_time_per_life_s: double (nullable = true)\n",
      " |    |-- ctf_captures: long (nullable = true)\n",
      " |    |-- ctf_defends: long (nullable = true)\n",
      " |    |-- ctf_flag_carry_time_s: double (nullable = true)\n",
      " |    |-- ctf_kill_carriers: long (nullable = true)\n",
      " |    |-- ctf_pickups: long (nullable = true)\n",
      " |    |-- ctf_returns: long (nullable = true)\n",
      " |    |-- deaths: long (nullable = true)\n",
      " |    |-- deaths_per_10min: double (nullable = true)\n",
      " |    |-- fave_division: string (nullable = true)\n",
      " |    |-- fave_scorestreaks: array (nullable = true)\n",
      " |    |    |-- element: string (containsNull = true)\n",
      " |    |-- fave_training: string (nullable = true)\n",
      " |    |-- fave_weapon: string (nullable = true)\n",
      " |    |-- headshots: long (nullable = true)\n",
      " |    |-- hits: long (nullable = true)\n",
      " |    |-- hp_captures: long (nullable = true)\n",
      " |    |-- hp_defends: long (nullable = true)\n",
      " |    |-- hp_hill_time_s: long (nullable = true)\n",
      " |    |-- kd: double (nullable = true)\n",
      " |    |-- kills: long (nullable = true)\n",
      " |    |-- kills_per_10min: double (nullable = true)\n",
      " |    |-- name: string (nullable = true)\n",
      " |    |-- num_lives: long (nullable = true)\n",
      " |    |-- scorestreaks_assists: long (nullable = true)\n",
      " |    |-- scorestreaks_deployed: long (nullable = true)\n",
      " |    |-- scorestreaks_earned: long (nullable = true)\n",
      " |    |-- scorestreaks_kills: long (nullable = true)\n",
      " |    |-- scorestreaks_used: long (nullable = true)\n",
      " |    |-- shots: long (nullable = true)\n",
      " |    |-- snd_1kill_round: long (nullable = true)\n",
      " |    |-- snd_2kill_round: long (nullable = true)\n",
      " |    |-- snd_3kill_round: long (nullable = true)\n",
      " |    |-- snd_4kill_round: long (nullable = true)\n",
      " |    |-- snd_defuses: long (nullable = true)\n",
      " |    |-- snd_firstbloods: long (nullable = true)\n",
      " |    |-- snd_firstdeaths: long (nullable = true)\n",
      " |    |-- snd_pickups: long (nullable = true)\n",
      " |    |-- snd_plants: long (nullable = true)\n",
      " |    |-- snd_rounds: long (nullable = true)\n",
      " |    |-- snd_sneak_defuses: long (nullable = true)\n",
      " |    |-- snd_survives: long (nullable = true)\n",
      " |    |-- stayed_alive_kills: long (nullable = true)\n",
      " |    |-- suicides: long (nullable = true)\n",
      " |    |-- team: string (nullable = true)\n",
      " |    |-- team_deaths: long (nullable = true)\n",
      " |    |-- team_kills: long (nullable = true)\n",
      " |    |-- time_alive_s: double (nullable = true)\n",
      "\n"
     ]
    }
   ],
   "source": [
    "playermatches_df.printSchema()"
   ]
  },
  {
   "cell_type": "code",
   "execution_count": 6,
   "metadata": {},
   "outputs": [
    {
     "name": "stdout",
     "output_type": "stream",
     "text": [
      "root\n",
      " |-- id: string (nullable = true)\n",
      " |-- mode: string (nullable = true)\n",
      " |-- event: struct (nullable = true)\n",
      " |    |-- data: struct (nullable = true)\n",
      " |    |    |-- attacker: struct (nullable = true)\n",
      " |    |    |    |-- id: string (nullable = true)\n",
      " |    |    |    |-- life: long (nullable = true)\n",
      " |    |    |    |-- means_of_death: string (nullable = true)\n",
      " |    |    |    |-- pos: struct (nullable = true)\n",
      " |    |    |    |    |-- x: long (nullable = true)\n",
      " |    |    |    |    |-- y: long (nullable = true)\n",
      " |    |    |    |-- weapon: string (nullable = true)\n",
      " |    |    |-- id: string (nullable = true)\n",
      " |    |    |-- is_overtime: boolean (nullable = true)\n",
      " |    |    |-- life: long (nullable = true)\n",
      " |    |    |-- pos: struct (nullable = true)\n",
      " |    |    |    |-- x: long (nullable = true)\n",
      " |    |    |    |-- y: long (nullable = true)\n",
      " |    |    |-- score1: long (nullable = true)\n",
      " |    |    |-- score2: long (nullable = true)\n",
      " |    |-- round: long (nullable = true)\n",
      " |    |-- round_time_ms: long (nullable = true)\n",
      " |    |-- time_ms: long (nullable = true)\n",
      " |    |-- type: string (nullable = true)\n",
      "\n"
     ]
    }
   ],
   "source": [
    "matchevents_df.printSchema()"
   ]
  },
  {
   "cell_type": "markdown",
   "metadata": {},
   "source": [
    "## Problem 1\n",
    "\n",
    "Players tend to be very interested in the performance characteristics of various weapons.  One easy question to answer is:\n",
    "\n",
    "Which weapon was responsible for the most kills over the entire tournament?\n",
    "\n",
    "Store your result in a `str` variable named `weapon_most_kills`, i.e.\n",
    "```\n",
    "weapon_most_kills = 'KICKBOOTY_3000'\n",
    "```\n",
    "\n",
    "WE WILL RUN LOW ON MEMORY, so clean up after yourself.  Here is how to delete any DataFrames or RDDs you are done with:\n",
    "```\n",
    "del my_df\n",
    "ss.catalog.clearCache()\n",
    "```"
   ]
  },
  {
   "cell_type": "code",
   "execution_count": 7,
   "metadata": {
    "deletable": false,
    "nbgrader": {
     "checksum": "4e4bdb2cb7c41cf4f5f41d323fcc1468",
     "grade": false,
     "grade_id": "cell-5041514ad1f08a5e",
     "locked": false,
     "schema_version": 1,
     "solution": true
    }
   },
   "outputs": [
    {
     "name": "stdout",
     "output_type": "stream",
     "text": [
      "+-----------------+-----+\n",
      "|           weapon|count|\n",
      "+-----------------+-----+\n",
      "|          PPSh-41|23422|\n",
      "|           STG-44|11114|\n",
      "|              BAR| 3571|\n",
      "|         No 74 ST| 2117|\n",
      "|      Springfield|  317|\n",
      "|   Machine Pistol|  313|\n",
      "|       Glide Bomb|  312|\n",
      "|    Fighter Pilot|  226|\n",
      "|          unknown|  197|\n",
      "|Artillery Barrage|   97|\n",
      "|            M1911|   65|\n",
      "| Mk2 Frag Grenade|   20|\n",
      "| Stielhandgranate|   12|\n",
      "|    British No 69|   11|\n",
      "| M1897 Trench Gun|    2|\n",
      "|            Luger|    1|\n",
      "+-----------------+-----+\n",
      "\n"
     ]
    }
   ],
   "source": [
    "# YOUR CODE HERE\n",
    "clean_table = matchevents_df.select('id','event.data.attacker.weapon','event.type')\n",
    "\n",
    "clean_table.where(clean_table.weapon.isNotNull()).where(clean_table.type == 'death').\\\n",
    "            groupBy('weapon').count().orderBy(['count'],ascending=[0]).show()\n",
    "            \n",
    "weapon_most_kills = 'PPSh-41'"
   ]
  },
  {
   "cell_type": "code",
   "execution_count": 8,
   "metadata": {
    "deletable": false,
    "editable": false,
    "nbgrader": {
     "checksum": "5b1d25ed5d79584f353d91facc570aa8",
     "grade": true,
     "grade_id": "cell-4b354aa92cda9c8e",
     "locked": true,
     "points": 20,
     "schema_version": 1,
     "solution": false
    }
   },
   "outputs": [],
   "source": [
    "assert isinstance(weapon_most_kills, str)\n"
   ]
  },
  {
   "cell_type": "markdown",
   "metadata": {},
   "source": [
    "## Problem 2:  Winning-est Team\n",
    "\n",
    "Please rank the teams in order of who won the most *matches* (winning-est team is first).  If there are any ties then secondarily sort alphabetically.\n",
    "\n",
    "Note that because each team-vs-team competition is the best out of 3 matches, the \"winning-est\" team might not be the same team that won the whole tournament.\n",
    "\n",
    "Store your result in a variable named `winningest_teams` that is a `list` of `tuple`s where each tuple contains the team name and the total number of matches won, e.g.\n",
    "```\n",
    "[('AWESOME_TEAM', 55), ('OK_TEAM', 43), ...]\n",
    "```"
   ]
  },
  {
   "cell_type": "code",
   "execution_count": 9,
   "metadata": {
    "deletable": false,
    "nbgrader": {
     "checksum": "67f3f018bc2af41eed5eb878f537ef63",
     "grade": false,
     "grade_id": "cell-34cb8447b8d7c4da",
     "locked": false,
     "schema_version": 1,
     "solution": true
    }
   },
   "outputs": [
    {
     "data": {
      "text/plain": [
       "[('FAZE CLAN', 28),\n",
       " ('EVIL GENIUSES', 24),\n",
       " ('TEAM KALIBER', 24),\n",
       " ('LUMINOSITY', 19),\n",
       " ('EUNITED', 18),\n",
       " ('RED RESERVE', 16),\n",
       " ('ELEVATE', 13),\n",
       " ('LIGHTNING PANDAS', 12),\n",
       " ('RISE NATION', 12),\n",
       " ('UNILAD', 12),\n",
       " ('GHOST GAMING', 11),\n",
       " ('TEAM SWEEN', 11),\n",
       " ('LETHAL GAMING', 10),\n",
       " ('TEAM ENVY', 10),\n",
       " ('TEAM VITALITY', 9),\n",
       " ('COMPLEXITY', 8),\n",
       " ('HERETICS', 7),\n",
       " ('MINDFREAK', 6),\n",
       " ('OPTIC GAMING', 6),\n",
       " ('TEAM ENVYUS', 6),\n",
       " ('BRASH', 5),\n",
       " ('ENIGMA6', 5),\n",
       " ('SPLYCE', 5),\n",
       " ('TAINTED MINDS', 5),\n",
       " ('ECHO FOX', 4),\n",
       " ('MENTALITY', 3),\n",
       " ('EPSILON', 2),\n",
       " ('MORITURI ESPORTS', 2),\n",
       " ('SUPREMACY', 1),\n",
       " ('TEAM PRISMATIC', 1),\n",
       " ('ZONEGG', 1),\n",
       " ('EZG', 0),\n",
       " ('HAVOK', 0)]"
      ]
     },
     "execution_count": 9,
     "metadata": {},
     "output_type": "execute_result"
    }
   ],
   "source": [
    "subset_table = teammatches_df.select('team.name','team.is_victor')\n",
    "clean_table = subset_table.select([F.col('name'),F.col('is_victor').cast(\"integer\")])\n",
    "summed_table = clean_table.groupBy('name').sum('is_victor')\n",
    "summed_table = summed_table.orderBy([\"sum(is_victor)\", \"name\"], ascending=[0, 1])\n",
    "df = summed_table.select('name',summed_table['sum(is_victor)'].alias('win_times'))\n",
    "\n",
    "key = list(df.select('name').toPandas()['name'])\n",
    "value = list(df.select('win_times').toPandas()['win_times'])\n",
    "d = dict(zip(key,value))\n",
    "winningest_teams = list(d.items())\n",
    "winningest_teams"
   ]
  },
  {
   "cell_type": "code",
   "execution_count": 10,
   "metadata": {
    "deletable": false,
    "editable": false,
    "nbgrader": {
     "checksum": "6657091d4d50d9ea4dd53a7ed8b965d1",
     "grade": true,
     "grade_id": "cell-4ec70198fdb2ade3",
     "locked": true,
     "points": 20,
     "schema_version": 1,
     "solution": false
    }
   },
   "outputs": [],
   "source": [
    "assert isinstance(winningest_teams, list)\n",
    "assert isinstance(winningest_teams[0], tuple)\n",
    "assert isinstance(winningest_teams[0][0], str)\n",
    "assert isinstance(winningest_teams[0][1], int)\n"
   ]
  },
  {
   "cell_type": "markdown",
   "metadata": {},
   "source": [
    "## Problem 3:  Deadliest map\n",
    "\n",
    "It is interesting to know which maps are \"deadliest\" (i.e. have the most kills over the entire tournament) because this is where the exciting action was happening.\n",
    "\n",
    "Similar to Problem 2, provide a rank-order of maps (deadliest first), i.e. your `list` of `tuples` should look like:\n",
    "```\n",
    "[('Super Deadly Map', 1053), ('Second deadliest map', 997), ...]\n",
    "```\n",
    "where each pair contains the team name and total number of deaths that occurred in that map for the entire tournament.\n",
    "\n",
    "If there are any ties then secondarily sort alphabetically.  Name your variable `deadliest_maps`."
   ]
  },
  {
   "cell_type": "code",
   "execution_count": 11,
   "metadata": {
    "deletable": false,
    "nbgrader": {
     "checksum": "7282cd45cc8ce1c0665630e8a692ddd2",
     "grade": false,
     "grade_id": "cell-77a779360df9f8d6",
     "locked": false,
     "schema_version": 1,
     "solution": true
    }
   },
   "outputs": [
    {
     "data": {
      "text/plain": [
       "[('London Docks', 14285),\n",
       " ('Ardennes Forest', 11331),\n",
       " ('Sainte Marie du Mont', 5211),\n",
       " ('Flak Tower', 3942),\n",
       " ('Valkyrie', 3717),\n",
       " ('Gibraltar', 2949),\n",
       " ('USS Texas', 362)]"
      ]
     },
     "execution_count": 11,
     "metadata": {},
     "output_type": "execute_result"
    }
   ],
   "source": [
    "map_df = matches_df.select('id','map')\n",
    "\n",
    "kill_table = matchevents_df.select(matchevents_df['id'].alias('kill_id'),'event.type')\n",
    "kill_table = kill_table.where(kill_table.type == 'death')\n",
    "\n",
    "joined_table = kill_table.join(map_df,kill_table.kill_id == map_df.id)\n",
    "clean_table = joined_table.select('type','map')\n",
    "counted_table = clean_table.groupBy('map').count()\n",
    "counted_table = counted_table.select('map',counted_table['count'].alias('kill_times'))\n",
    "\n",
    "df = counted_table.orderBy(['kill_times','map'],ascending=[0, 1])\n",
    "\n",
    "key = list(df.select('map').toPandas()['map'])\n",
    "value = list(df.select('kill_times').toPandas()['kill_times'])\n",
    "d = dict(zip(key,value))\n",
    "deadliest_maps = list(d.items())\n",
    "deadliest_maps"
   ]
  },
  {
   "cell_type": "code",
   "execution_count": 12,
   "metadata": {
    "deletable": false,
    "editable": false,
    "nbgrader": {
     "checksum": "9e7d757d7b7e3bdf393361b0030bab46",
     "grade": true,
     "grade_id": "cell-a484098ee0d8d65c",
     "locked": true,
     "points": 20,
     "schema_version": 1,
     "solution": false
    }
   },
   "outputs": [],
   "source": [
    "assert isinstance(deadliest_maps, list)\n",
    "assert isinstance(deadliest_maps[0], tuple)\n",
    "assert isinstance(deadliest_maps[0][0], str)\n",
    "assert isinstance(deadliest_maps[0][1], int)\n"
   ]
  },
  {
   "cell_type": "markdown",
   "metadata": {},
   "source": [
    "## Problem 4:  Time spent per map\n",
    "\n",
    "Let's figure out how much time was spent (for the entire tournament) on each map.\n",
    "\n",
    "Produce a DataFrame named `map_durations_df` that contains two columns:  `map` (the name of the map) and `tot_duration_s` (total *seconds* played on the map for the entire tournament over all matches).\n",
    "\n",
    "It should be sorted in descending order with the longest played map first.\n",
    "\n",
    "Hint: I used a UDF to solve this"
   ]
  },
  {
   "cell_type": "code",
   "execution_count": 13,
   "metadata": {
    "deletable": false,
    "nbgrader": {
     "checksum": "6dbe857702e3cda8ce2418d4ca6d4f3d",
     "grade": false,
     "grade_id": "cell-fc9a26c36ddbf12f",
     "locked": false,
     "schema_version": 1,
     "solution": true
    }
   },
   "outputs": [
    {
     "name": "stdout",
     "output_type": "stream",
     "text": [
      "+--------------------+--------------+\n",
      "|                 map|tot_duration_s|\n",
      "+--------------------+--------------+\n",
      "|        London Docks|       52300.0|\n",
      "|     Ardennes Forest|       48356.0|\n",
      "|Sainte Marie du Mont|       30781.0|\n",
      "|          Flak Tower|       16635.0|\n",
      "|            Valkyrie|       14791.0|\n",
      "|           Gibraltar|       10263.0|\n",
      "|           USS Texas|        4166.0|\n",
      "+--------------------+--------------+\n",
      "\n"
     ]
    }
   ],
   "source": [
    "df = matches_df.select('map','duration_ms')\n",
    "\n",
    "from pyspark.sql.types import DoubleType\n",
    "\n",
    "def duration_time_s(ms):\n",
    "    return ms/1000\n",
    "\n",
    "duration_udf = F.udf(duration_time_s,DoubleType())\n",
    "\n",
    "df = df.withColumn('duration_time_s',duration_udf(F.col('duration_ms')))\n",
    "\n",
    "#----------------------------\n",
    "df = df.select('map','duration_time_s').groupBy('map').sum('duration_time_s')\n",
    "df = df.select('map',df['sum(duration_time_s)'].alias('tot_duration_s'))\n",
    "\n",
    "\n",
    "map_durations_df = df.select('map','tot_duration_s').orderBy(['tot_duration_s','map'],ascending=[0, 1])\n",
    "map_durations_df.show()"
   ]
  },
  {
   "cell_type": "code",
   "execution_count": 14,
   "metadata": {
    "deletable": false,
    "editable": false,
    "nbgrader": {
     "checksum": "8eb5b8b3e8509e41bbc23bf06bedf98b",
     "grade": true,
     "grade_id": "cell-97842aefeb2e5da2",
     "locked": true,
     "points": 30,
     "schema_version": 1,
     "solution": false
    }
   },
   "outputs": [],
   "source": [
    "from pyspark.sql import DataFrame\n",
    "assert isinstance(map_durations_df, DataFrame)\n",
    "assert map_durations_df.columns == ['map', 'tot_duration_s']\n"
   ]
  },
  {
   "cell_type": "markdown",
   "metadata": {},
   "source": [
    "## Problem 5: Deadliest map per unit time\n",
    "\n",
    "The analysis in Problem 3 is not really fair.  Since some maps were played longer than others, we should really produce a DataFrame that details the deadliest maps PER SECOND.\n",
    "\n",
    "Your resulting DataFrame should be named `deadliest_maps_per_second_df` and have the columns `map` (the map name) and `deaths_per_second` (which will be doubles).\n",
    "\n",
    "Your DataFrame should be sorted according to `deaths_per_second` (deadliest first) and, in case of tie, alphabetically.\n",
    "\n",
    "HINT: I used a UDF to solve this"
   ]
  },
  {
   "cell_type": "code",
   "execution_count": 19,
   "metadata": {
    "deletable": false,
    "nbgrader": {
     "checksum": "ee01ed7eb36c0c1f9e359e4e0691e73a",
     "grade": false,
     "grade_id": "cell-78b1f8201d13442b",
     "locked": false,
     "schema_version": 1,
     "solution": true
    }
   },
   "outputs": [
    {
     "name": "stdout",
     "output_type": "stream",
     "text": [
      "+--------------------+-------------------+\n",
      "|                 map|  deaths_per_second|\n",
      "+--------------------+-------------------+\n",
      "|           Gibraltar|0.28734288219818765|\n",
      "|        London Docks| 0.2731357552581262|\n",
      "|            Valkyrie| 0.2513014671083767|\n",
      "|          Flak Tower| 0.2369702434625789|\n",
      "|     Ardennes Forest| 0.2343245926048474|\n",
      "|Sainte Marie du Mont|0.16929274552483675|\n",
      "|           USS Texas|0.08689390302448392|\n",
      "+--------------------+-------------------+\n",
      "\n"
     ]
    }
   ],
   "source": [
    "#-----------------------\n",
    "map_df = matches_df.select('id','map')\n",
    "\n",
    "kill_table = matchevents_df.select(matchevents_df['id'].alias('kill_id'),'event.type')\n",
    "kill_table = kill_table.where(kill_table.type == 'death')\n",
    "\n",
    "joined_table = kill_table.join(map_df,kill_table.kill_id == map_df.id)\n",
    "clean_table = joined_table.select('type','map')\n",
    "counted_table = clean_table.groupBy('map').count()\n",
    "counted_table = counted_table.select('map',counted_table['count'].alias('kill_times'))\n",
    "\n",
    "deadtimes_df = counted_table.orderBy(['kill_times','map'],ascending=[0, 1])\n",
    "\n",
    "#-----------------------\n",
    "df = matches_df.select('map','duration_ms')\n",
    "\n",
    "from pyspark.sql.types import DoubleType\n",
    "\n",
    "def duration_time_s(ms):\n",
    "    return ms/1000\n",
    "\n",
    "duration_udf = F.udf(duration_time_s,DoubleType())\n",
    "\n",
    "df = df.withColumn('duration_time_s',duration_udf(F.col('duration_ms')))\n",
    "\n",
    "df = df.select('map','duration_time_s').groupBy('map').sum('duration_time_s')\n",
    "df = df.select('map',df['sum(duration_time_s)'].alias('tot_duration_s'))\n",
    "\n",
    "map_durations_df = df.select('map','tot_duration_s').orderBy(['tot_duration_s','map'],ascending=[0, 1])\n",
    "map_durations_df = map_durations_df.select('tot_duration_s',map_durations_df['map'].alias('mapmap'))\n",
    "\n",
    "#-----------------------\n",
    "joined_table = deadtimes_df.join(map_durations_df,deadtimes_df.map == map_durations_df.mapmap)\n",
    "joined_table = joined_table.select('map','kill_times','tot_duration_s')\n",
    "\n",
    "#-----------------------\n",
    "from pyspark.sql.types import DoubleType\n",
    "\n",
    "def per_second(kill_times,tot_dur):\n",
    "    return kill_times/tot_dur\n",
    "\n",
    "per_second_udf = F.udf(per_second,DoubleType())\n",
    "\n",
    "deadliest_maps_per_second_df = joined_table.withColumn('deaths_per_second', \\\n",
    "                                                       per_second_udf(F.col('kill_times'),\\\n",
    "                                                                      F.col('tot_duration_s')))\n",
    "\n",
    "#-----------------------\n",
    "deadliest_maps_per_second_df = deadliest_maps_per_second_df.orderBy(['deaths_per_second','map'],ascending = [0,1])\n",
    "deadliest_maps_per_second_df = deadliest_maps_per_second_df.select('map','deaths_per_second')\n",
    "deadliest_maps_per_second_df.show()\n",
    "\n"
   ]
  },
  {
   "cell_type": "code",
   "execution_count": 16,
   "metadata": {
    "deletable": false,
    "editable": false,
    "nbgrader": {
     "checksum": "c436370890acf24fc36763ab185b15f9",
     "grade": true,
     "grade_id": "cell-d57d3ece7d7a53a3",
     "locked": true,
     "points": 40,
     "schema_version": 1,
     "solution": false
    }
   },
   "outputs": [],
   "source": [
    "import numpy as np\n",
    "\n",
    "assert isinstance(deadliest_maps_per_second_df, DataFrame)\n",
    "assert deadliest_maps_per_second_df.columns == ['map', 'deaths_per_second']\n",
    "assert deadliest_maps_per_second_df.select('deaths_per_second').dtypes[0][1] == 'double'\n"
   ]
  },
  {
   "cell_type": "markdown",
   "metadata": {},
   "source": [
    "## Problem 6: Cumulative time a team played\n",
    "\n",
    "Create a DataFrame that contains the matches played by the team `EVIL GENIUSES` (one row per match).  This DataFrame, named `genius_matches`, will contain 4 columns:\n",
    "\n",
    "`mode`, `start_time_s`, `end_time_s`, and `cumulative_time_s` where `cumulative_time_s` is the cumulative seconds played UP TO AND INCLUDING THAT MATCH.  The cumulative match time should be separate for each game mode.\n",
    "\n",
    "The matches should be sorted first by `mode`, then in order of time played (earliest matches first).\n",
    "\n",
    "HINT:  You need some UDFs and Windowing"
   ]
  },
  {
   "cell_type": "code",
   "execution_count": 17,
   "metadata": {
    "deletable": false,
    "nbgrader": {
     "checksum": "8646b035c6331f412696438e9315d370",
     "grade": false,
     "grade_id": "cell-13931a745d7db81e",
     "locked": false,
     "schema_version": 1,
     "solution": true
    }
   },
   "outputs": [
    {
     "name": "stdout",
     "output_type": "stream",
     "text": [
      "+----------------+------------+----------+-----------------+\n",
      "|            mode|start_time_s|end_time_s|cumulative_time_s|\n",
      "+----------------+------------+----------+-----------------+\n",
      "|       Hardpoint|  1534361982|1534362687|            705.0|\n",
      "|       Hardpoint|  1534364818|1534365529|           1416.0|\n",
      "|       Hardpoint|  1534440741|1534441439|           2114.0|\n",
      "|       Hardpoint|  1534443800|1534444566|           2880.0|\n",
      "|       Hardpoint|  1534457556|1534458220|           3544.0|\n",
      "|       Hardpoint|  1534528542|1534529055|           4057.0|\n",
      "|       Hardpoint|  1534608284|1534609063|           4836.0|\n",
      "|       Hardpoint|  1534625528|1534626100|           5408.0|\n",
      "|       Hardpoint|  1534628787|1534629444|           6065.0|\n",
      "|       Hardpoint|  1534700869|1534701580|           6776.0|\n",
      "|       Hardpoint|  1534704083|1534704675|           7368.0|\n",
      "|       Hardpoint|  1534712942|1534713615|           8041.0|\n",
      "|       Hardpoint|  1534715919|1534716637|           8759.0|\n",
      "|       Hardpoint|  1534719089|1534719778|           9448.0|\n",
      "|Capture The Flag|  1534363920|1534364519|            599.0|\n",
      "|Capture The Flag|  1534442856|1534443471|           1214.0|\n",
      "|Capture The Flag|  1534459795|1534460394|           1813.0|\n",
      "|Capture The Flag|  1534530550|1534531149|           2412.0|\n",
      "|Capture The Flag|  1534610821|1534611420|           3011.0|\n",
      "|Capture The Flag|  1534627825|1534628605|           3791.0|\n",
      "+----------------+------------+----------+-----------------+\n",
      "only showing top 20 rows\n",
      "\n"
     ]
    }
   ],
   "source": [
    "team_table = teammatches_df.select('team.name','id','mode')\n",
    "team_table = team_table.where(team_table.name == 'EVIL GENIUSES')\n",
    "match_table = matches_df.select('id','start_time_s','end_time_s','duration_ms')\n",
    "match_table = match_table.select('start_time_s','end_time_s','duration_ms',match_table['id'].alias('idid'))\n",
    "\n",
    "joined_table = team_table.join(match_table,team_table.id == match_table.idid)\n",
    "joined_table = joined_table.select('id','mode','name','start_time_s','end_time_s','duration_ms')\n",
    "\n",
    "joined_table = joined_table.sort('start_time_s')\n",
    "\n",
    "#----------------------------------------\n",
    "from pyspark.sql.types import DoubleType\n",
    "\n",
    "def duration_time_s(ms):\n",
    "    return ms/1000\n",
    "\n",
    "duration_udf = F.udf(duration_time_s,DoubleType())\n",
    "\n",
    "udf_df = joined_table.withColumn('duration_time_s',duration_udf(F.col('duration_ms')))\n",
    "\n",
    "\n",
    "#----------------------------\n",
    "from pyspark.sql import Window\n",
    "\n",
    "window = Window.partitionBy('mode').\\\n",
    "         orderBy('start_time_s').\\\n",
    "         rowsBetween(Window.unboundedPreceding,0)\n",
    "\n",
    "df = udf_df.withColumn('cumulative_time_s',F.sum(F.col('duration_time_s')).over(window))\n",
    "\n",
    "\n",
    "#----------------------------\n",
    "genius_matches = df.select('mode','start_time_s','end_time_s','cumulative_time_s')\n",
    "genius_matches.show(20)\n"
   ]
  },
  {
   "cell_type": "code",
   "execution_count": 18,
   "metadata": {
    "deletable": false,
    "editable": false,
    "nbgrader": {
     "checksum": "4e8b879e93ecc83c78f3ecd0129f7f47",
     "grade": true,
     "grade_id": "cell-5d7638eb34ee6afd",
     "locked": true,
     "points": 40,
     "schema_version": 1,
     "solution": false
    }
   },
   "outputs": [],
   "source": [
    "assert isinstance(genius_matches, DataFrame)\n",
    "assert genius_matches.columns == \\\n",
    "    ['mode', 'start_time_s', 'end_time_s', 'cumulative_time_s']\n"
   ]
  }
 ],
 "metadata": {
  "kernelspec": {
   "display_name": "Python 3",
   "language": "python",
   "name": "python3"
  },
  "language_info": {
   "codemirror_mode": {
    "name": "ipython",
    "version": 3
   },
   "file_extension": ".py",
   "mimetype": "text/x-python",
   "name": "python",
   "nbconvert_exporter": "python",
   "pygments_lexer": "ipython3",
   "version": "3.6.7"
  }
 },
 "nbformat": 4,
 "nbformat_minor": 2
}
