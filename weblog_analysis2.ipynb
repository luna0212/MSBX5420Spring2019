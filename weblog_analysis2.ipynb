{
 "cells": [
  {
   "cell_type": "markdown",
   "metadata": {},
   "source": [
    "# Week 4 HW part 2:  parsing a log line"
   ]
  },
  {
   "cell_type": "markdown",
   "metadata": {},
   "source": [
    "## Tuples\n",
    "\n",
    "Let us familiarize ourselves with another standard Python datatype that you will encounter in this homework:  the **tuple**.  A tuple looks and behaves very similarly to a list, except that it is contained within parentheses `()` instead of brackets `[]`.  Elements are indexed in exactly the same way:"
   ]
  },
  {
   "cell_type": "code",
   "execution_count": 1,
   "metadata": {},
   "outputs": [
    {
     "data": {
      "text/plain": [
       "'zero'"
      ]
     },
     "execution_count": 1,
     "metadata": {},
     "output_type": "execute_result"
    }
   ],
   "source": [
    "mytuple = (\"zero\", \"one\", \"two\")\n",
    "mytuple[0]"
   ]
  },
  {
   "cell_type": "markdown",
   "metadata": {},
   "source": [
    "The only difference is that tuples have a FIXED LENGTH (once created, we cannot add or remove elements), and they are IMMUTABLE (once created, the elements cannot be changed - ignoring some technicalities).\n",
    "\n",
    "They are especially well-suited for situations where you want to bundle a small (e.g. 3) group of values together.  In these situations they are much more efficient than lists.\n",
    "\n",
    "NOTE: If you want to create a tuple with only one element then you need an extra comma \",\" after the element.  Can you figure out why?"
   ]
  },
  {
   "cell_type": "code",
   "execution_count": 2,
   "metadata": {},
   "outputs": [
    {
     "data": {
      "text/plain": [
       "int"
      ]
     },
     "execution_count": 2,
     "metadata": {},
     "output_type": "execute_result"
    }
   ],
   "source": [
    "not_a_tuple = (9)\n",
    "type(not_a_tuple)"
   ]
  },
  {
   "cell_type": "code",
   "execution_count": 3,
   "metadata": {},
   "outputs": [
    {
     "data": {
      "text/plain": [
       "tuple"
      ]
     },
     "execution_count": 3,
     "metadata": {},
     "output_type": "execute_result"
    }
   ],
   "source": [
    "is_a_tuple = (9,)\n",
    "type(is_a_tuple)"
   ]
  },
  {
   "cell_type": "markdown",
   "metadata": {},
   "source": [
    "Tuples are very commonly used when you want to return multiple values from a function:"
   ]
  },
  {
   "cell_type": "code",
   "execution_count": 4,
   "metadata": {},
   "outputs": [
    {
     "name": "stdout",
     "output_type": "stream",
     "text": [
      "Sue\n",
      "32\n",
      "Windows\n"
     ]
    }
   ],
   "source": [
    "# toy example of returning a tuple\n",
    "def get_record(user_id):\n",
    "    name = \"Sue\"\n",
    "    age = 32\n",
    "    platform = \"Windows\"\n",
    "    return (name, age, platform)\n",
    "\n",
    "# you COULD call it like this\n",
    "record = get_record(24235432)\n",
    "n = record[0]\n",
    "a = record[1]\n",
    "p = record[2]\n",
    "\n",
    "# BUT Python supports a slicker syntax called \"tuple unpacking\"\n",
    "n, a, p = get_record(24235432)\n",
    "\n",
    "print(n)\n",
    "print(a)\n",
    "print(p)"
   ]
  },
  {
   "cell_type": "markdown",
   "metadata": {},
   "source": [
    "## Parsing log entries using regular expressions\n",
    "\n",
    "*Parsing* is the act of extracting information from strings.  In this homework we will figure out how to use *regular expressions* to parse each line in the log file.\n",
    "\n",
    "Recall that in week 2 we used regular expressions to clean up our tweets (see Python video tutorials).  There we only did simple substitutions (finding patterns and replacing with `' '`).\n",
    "\n",
    "This week we're going to step up the difficulty.  Using a concept in regex called \"groups\", we will extract fields from each log line.  To get started, have a look at this tutorial:\n",
    "\n",
    "https://www.machinelearningplus.com/python/python-regex-tutorial-examples/ \n",
    "\n",
    "The full documentation is really more of a reference:\n",
    "\n",
    "https://docs.python.org/3/howto/regex.html"
   ]
  },
  {
   "cell_type": "code",
   "execution_count": 5,
   "metadata": {},
   "outputs": [],
   "source": [
    "import re\n",
    "\n",
    "# Here is an example entry from the log\n",
    "\n",
    "logentry = 'maynard.isi.uconn.edu - - [28/Jul/1995:13:32:22 -0400] \"GET /images/shuttle-patch-logo.gif HTTP/1.0\" 200 891'"
   ]
  },
  {
   "cell_type": "code",
   "execution_count": 48,
   "metadata": {
    "deletable": false,
    "nbgrader": {
     "checksum": "686a08fa96afcf481d0df3c7acdf20ba",
     "grade": false,
     "grade_id": "cell-92f19bc442fccbfd",
     "locked": false,
     "schema_version": 1,
     "solution": true
    }
   },
   "outputs": [],
   "source": [
    "# let's figure out how to extracting the following fields from it (these fields were described\n",
    "# in the homework description already):\n",
    "\n",
    "# requesting_host\n",
    "# user_identity\n",
    "# user_local_identity\n",
    "# timestamp\n",
    "# requested_resource\n",
    "# return_code\n",
    "# bytes_transferred\n",
    "\n",
    "# PLEASE write a regular expression that extracts the fields from this line.  Tests are in\n",
    "# the next cell.\n",
    "\n",
    "# YOUR CODE HERE\n",
    "regex = re.compile('\\s+')\n",
    "splited = regex.split(logentry)\n",
    "requesting_host = splited[0]\n",
    "user_identity = splited[1]\n",
    "user_local_identity = splited[2]\n",
    "timestamp = re.sub('[%s]' % re.escape(\"\"\"!\"#$%&'()*+,.;<=>?@[\\]^_`{|}~\"\"\"), '', splited[3] + \" \" + splited[4])\n",
    "requested_resource = re.search('\".*?\"',logentry).group()[1:-1]\n",
    "return_code = splited[8]\n",
    "bytes_transferred = splited[9]"
   ]
  },
  {
   "cell_type": "code",
   "execution_count": 49,
   "metadata": {
    "deletable": false,
    "editable": false,
    "nbgrader": {
     "checksum": "402cd1a84c5485e001bebd1732c7657a",
     "grade": true,
     "grade_id": "cell-7ca9ae0f0b5d21bc",
     "locked": true,
     "points": 20,
     "schema_version": 1,
     "solution": false
    }
   },
   "outputs": [],
   "source": [
    "assert requesting_host == 'maynard.isi.uconn.edu'\n",
    "assert user_identity == '-'\n",
    "assert user_local_identity == '-'\n",
    "assert timestamp == '28/Jul/1995:13:32:22 -0400'\n",
    "assert requested_resource == 'GET /images/shuttle-patch-logo.gif HTTP/1.0'\n",
    "assert return_code == '200'\n",
    "assert bytes_transferred == '891'\n",
    "# Note for later:  should probably test what happens when bytes_transferred is a '-'"
   ]
  },
  {
   "cell_type": "markdown",
   "metadata": {},
   "source": [
    "## Parsing Timestamps\n",
    "\n",
    "The timestamp itself has some further structure that we want to extract.  Let's try using another regex to split up the timestamp string.  It is formatted in the following way: `Day/Month/Year:Hour:Minute:Second Timezone`.\n",
    "\n",
    "Write a regular expression that parses the timestamp string (from the example above):"
   ]
  },
  {
   "cell_type": "code",
   "execution_count": 53,
   "metadata": {
    "deletable": false,
    "nbgrader": {
     "checksum": "710f8c53d402d49fc1f024e0d0877156",
     "grade": false,
     "grade_id": "cell-f06b5e4866afa408",
     "locked": false,
     "schema_version": 1,
     "solution": true
    }
   },
   "outputs": [],
   "source": [
    "# YOUR CODE HERE\n",
    "time_splited = regex.split(re.sub('[%s]' % re.escape(\"\"\"!\"#$%&'()*+,./:;<=>?@[\\]^_`{|}~\"\"\"), ' ', timestamp))\n",
    "day = time_splited[0]\n",
    "month = time_splited[1]\n",
    "year = time_splited[2]\n",
    "hour = time_splited[3]\n",
    "minute = time_splited[4]\n",
    "second = time_splited[5]\n",
    "timezone = time_splited[6]"
   ]
  },
  {
   "cell_type": "code",
   "execution_count": 54,
   "metadata": {
    "deletable": false,
    "editable": false,
    "nbgrader": {
     "checksum": "0b9aed2c535ac0af06de87c6cb2f89ff",
     "grade": true,
     "grade_id": "cell-62e34aefdae78613",
     "locked": true,
     "points": 20,
     "schema_version": 1,
     "solution": false
    }
   },
   "outputs": [],
   "source": [
    "assert day == '28'\n",
    "assert month == 'Jul'\n",
    "assert year == '1995'\n",
    "assert hour == '13'\n",
    "assert minute == '32'\n",
    "assert second == '22'\n",
    "assert timezone == '-0400'"
   ]
  },
  {
   "cell_type": "markdown",
   "metadata": {},
   "source": [
    "It turns out that parsing this timestamp using a regex is just the beginning of our difficulties with timestamps!\n",
    "\n",
    "In order to get something useful (i.e. dates and times that you can actually analyze) you would have to translate the month string from `'Jul'` to the number `7`.  But what if somebody changes the log format to write out `'July'` instead of `'Jul'`?  Are you going to handle that case as well?  What if somebody changes the log language to French?\n",
    "\n",
    "What about timezones?  Your head should start spinning now.\n",
    "\n",
    "Even after you solve all parsing issues, how do you answer questions like:  how many days are in between `December 7, 1941` and `January 1, 2017`.  Did you remember leap days?  Did anybody ever tell you there are even [leap seconds](https://github.com/sstirlin/pyleapsec), and different systems measure them differently (or not at all)?  Yes, I have suffered.\n",
    "\n",
    "Fortunately, Python has a `datetime` module that is meant to simplify life.  Instead of using regex to parse timestamps, `datetime` has a smart function `strptime` that can parse timestamps.  You will develop a love/hate relationship with it.  Here is a tutorial to get you started: https://www.guru99.com/date-time-and-datetime-classes-in-python.html\n",
    "\n",
    "One thing to keep in mind:  most systems measure time using UTC (Coordinated Universal Time).  Roughly, this is just Greenwich Mean Time (with some subtleties).  The timezone will come formatted like `-0400` (4 hours behind UTC), or `+0800` (8 hours ahead of UTC).\n",
    "\n",
    "Your task:  create a `datetime` object that holds the date and time that you extracted above:"
   ]
  },
  {
   "cell_type": "code",
   "execution_count": 93,
   "metadata": {
    "deletable": false,
    "nbgrader": {
     "checksum": "e0269e002cf91f165c092eb19db74cfa",
     "grade": false,
     "grade_id": "cell-5388f124ac0ad4a8",
     "locked": false,
     "schema_version": 1,
     "solution": true
    }
   },
   "outputs": [],
   "source": [
    "from datetime import datetime, timezone, timedelta\n",
    "\n",
    "dt = datetime.strptime(timestamp,'%d/%b/%Y:%H:%M:%S %z')"
   ]
  },
  {
   "cell_type": "code",
   "execution_count": 94,
   "metadata": {
    "deletable": false,
    "editable": false,
    "nbgrader": {
     "checksum": "1c49b56ce72ba7cd08b1f5c75ea1fc45",
     "grade": true,
     "grade_id": "cell-88cf2894baaf0119",
     "locked": true,
     "points": 20,
     "schema_version": 1,
     "solution": false
    }
   },
   "outputs": [],
   "source": [
    "assert dt == datetime(1995, 7, 28, 13, 32, 22, tzinfo=timezone(-timedelta(hours=4)))"
   ]
  },
  {
   "cell_type": "code",
   "execution_count": null,
   "metadata": {},
   "outputs": [],
   "source": []
  }
 ],
 "metadata": {
  "kernelspec": {
   "display_name": "Python 3",
   "language": "python",
   "name": "python3"
  },
  "language_info": {
   "codemirror_mode": {
    "name": "ipython",
    "version": 3
   },
   "file_extension": ".py",
   "mimetype": "text/x-python",
   "name": "python",
   "nbconvert_exporter": "python",
   "pygments_lexer": "ipython3",
   "version": "3.6.7"
  }
 },
 "nbformat": 4,
 "nbformat_minor": 2
}
