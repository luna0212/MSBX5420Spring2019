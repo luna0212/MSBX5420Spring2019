{
 "cells": [
  {
   "cell_type": "markdown",
   "metadata": {},
   "source": [
    "# UDFs and Windowing"
   ]
  },
  {
   "cell_type": "code",
   "execution_count": 1,
   "metadata": {},
   "outputs": [],
   "source": [
    "from pyspark.sql import SparkSession\n",
    "import pyspark.sql.functions as F\n",
    "\n",
    "\n",
    "ss = SparkSession.builder.\\\n",
    "     master('spark://spark-master:7077').\\\n",
    "     appName('week9lecture_udfwindow').getOrCreate()"
   ]
  },
  {
   "cell_type": "code",
   "execution_count": 2,
   "metadata": {},
   "outputs": [],
   "source": [
    "# RDD\n",
    "sc = ss.sparkContext"
   ]
  },
  {
   "cell_type": "code",
   "execution_count": 3,
   "metadata": {},
   "outputs": [],
   "source": [
    "purchases_rdd = sc.parallelize([\n",
    "(\"Geoffrey\", \"2016-04-22\", \"A\", \"apples\", 1, 50.00),\n",
    "(\"Geoffrey\", \"2016-05-03\", \"B\", \"Lamp\", 2, 38.00),\n",
    "(\"Geoffrey\", \"2016-05-03\", \"D\", \"Solar Pannel\", 1, 29.00),\n",
    "(\"Geoffrey\", \"2016-05-03\", \"A\", \"apples\", 3, 50.00),\n",
    "(\"Geoffrey\", \"2016-05-03\", \"C\", \"Rice\", 5, 15.00),\n",
    "(\"Geoffrey\", \"2016-06-05\", \"A\", \"apples\", 5, 50.00),\n",
    "(\"Geoffrey\", \"2016-06-05\", \"A\", \"bananas\", 5, 55.00),\n",
    "(\"Geoffrey\", \"2016-06-15\", \"Y\", \"Motor skate\", 7, 68.00),\n",
    "(\"Geoffrey\", \"2016-06-15\", \"E\", \"Book: The noose\", 1, 125.00),\n",
    "(\"Yann\", \"2016-04-22\", \"B\", \"Lamp\", 1, 38.00),\n",
    "(\"Yann\", \"2016-05-03\", \"Y\", \"Motor skate\", 1, 68.00),\n",
    "(\"Yann\", \"2016-05-03\", \"D\", \"Recycle bin\", 5, 27.00),\n",
    "(\"Yann\", \"2016-05-03\", \"C\", \"Rice\", 15, 15.00),\n",
    "(\"Yann\", \"2016-04-02\", \"A\", \"bananas\", 3, 55.00),\n",
    "(\"Yann\", \"2016-04-02\", \"B\", \"Lamp\", 2, 38.00),\n",
    "(\"Yann\", \"2016-04-03\", \"E\", \"Book: Crime and Punishment\", 5, 100.00),\n",
    "(\"Yann\", \"2016-04-13\", \"E\", \"Book: The noose\", 5, 125.00),\n",
    "(\"Yann\", \"2016-04-27\", \"D\", \"Solar Pannel\", 5, 29.00),\n",
    "(\"Yann\", \"2016-05-27\", \"D\", \"Recycle bin\", 5, 27.00),\n",
    "(\"Yann\", \"2016-05-27\", \"A\", \"bananas\", 3, 55.00),\n",
    "(\"Yann\", \"2016-05-01\", \"Y\", \"Motor skate\", 1, 68.00),\n",
    "(\"Yann\", \"2016-06-07\", \"Z\", \"space ship\", 1, 227.00),\n",
    "(\"Yoshua\", \"2016-02-07\", \"Z\", \"space ship\", 2, 227.00),\n",
    "(\"Yoshua\", \"2016-02-14\", \"A\", \"bananas\", 9, 55.00),\n",
    "(\"Yoshua\", \"2016-02-14\", \"B\", \"Lamp\", 2, 38.00),\n",
    "(\"Yoshua\", \"2016-02-14\", \"A\", \"apples\", 10, 55.00),\n",
    "(\"Yoshua\", \"2016-03-07\", \"Z\", \"space ship\", 5, 227.00),\n",
    "(\"Yoshua\", \"2016-04-07\", \"Y\", \"Motor skate\", 4, 68.00),\n",
    "(\"Yoshua\", \"2016-04-07\", \"D\", \"Recycle bin\", 5, 27.00),\n",
    "(\"Yoshua\", \"2016-04-07\", \"C\", \"Rice\", 5, 15.00),\n",
    "(\"Yoshua\", \"2016-04-07\", \"A\", \"bananas\", 9, 55.00),\n",
    "(\"Jurgen\", \"2016-05-01\", \"Z\", \"space ship\", 1, 227.00),\n",
    "(\"Jurgen\", \"2016-05-01\", \"A\", \"bananas\", 5, 55.00),\n",
    "(\"Jurgen\", \"2016-05-08\", \"A\", \"bananas\", 5, 55.00),\n",
    "(\"Jurgen\", \"2016-05-08\", \"Y\", \"Motor skate\", 1, 68.00),\n",
    "(\"Jurgen\", \"2016-06-05\", \"A\", \"bananas\", 5, 55.00),\n",
    "(\"Jurgen\", \"2016-06-05\", \"C\", \"Rice\", 5, 15.00),\n",
    "(\"Jurgen\", \"2016-06-05\", \"Y\", \"Motor skate\", 2, 68.00),\n",
    "(\"Jurgen\", \"2016-06-05\", \"D\", \"Recycle bin\", 5, 27.00),\n",
    "])"
   ]
  },
  {
   "cell_type": "code",
   "execution_count": 4,
   "metadata": {},
   "outputs": [],
   "source": [
    "colnames = [\"customer_name\",\n",
    "            \"date\",\n",
    "            \"category\", \n",
    "            \"product_name\", \n",
    "            \"quantity\", \n",
    "            \"price\"]"
   ]
  },
  {
   "cell_type": "code",
   "execution_count": 5,
   "metadata": {},
   "outputs": [],
   "source": [
    "purchases_df = purchases_rdd.toDF(colnames)"
   ]
  },
  {
   "cell_type": "code",
   "execution_count": 6,
   "metadata": {},
   "outputs": [
    {
     "data": {
      "text/plain": [
       "[Row(customer_name='Geoffrey', date='2016-04-22', category='A', product_name='apples', quantity=1, price=50.0),\n",
       " Row(customer_name='Geoffrey', date='2016-05-03', category='B', product_name='Lamp', quantity=2, price=38.0),\n",
       " Row(customer_name='Geoffrey', date='2016-05-03', category='D', product_name='Solar Pannel', quantity=1, price=29.0),\n",
       " Row(customer_name='Geoffrey', date='2016-05-03', category='A', product_name='apples', quantity=3, price=50.0),\n",
       " Row(customer_name='Geoffrey', date='2016-05-03', category='C', product_name='Rice', quantity=5, price=15.0)]"
      ]
     },
     "execution_count": 6,
     "metadata": {},
     "output_type": "execute_result"
    }
   ],
   "source": [
    "purchases_df.take(5)"
   ]
  },
  {
   "cell_type": "code",
   "execution_count": 7,
   "metadata": {},
   "outputs": [
    {
     "name": "stdout",
     "output_type": "stream",
     "text": [
      "+-------------+----------+--------+------------+--------+-----+\n",
      "|customer_name|      date|category|product_name|quantity|price|\n",
      "+-------------+----------+--------+------------+--------+-----+\n",
      "|     Geoffrey|2016-04-22|       A|      apples|       1| 50.0|\n",
      "|     Geoffrey|2016-05-03|       B|        Lamp|       2| 38.0|\n",
      "|     Geoffrey|2016-05-03|       D|Solar Pannel|       1| 29.0|\n",
      "|     Geoffrey|2016-05-03|       A|      apples|       3| 50.0|\n",
      "|     Geoffrey|2016-05-03|       C|        Rice|       5| 15.0|\n",
      "+-------------+----------+--------+------------+--------+-----+\n",
      "only showing top 5 rows\n",
      "\n"
     ]
    }
   ],
   "source": [
    "purchases_df.show(5)"
   ]
  },
  {
   "cell_type": "code",
   "execution_count": 8,
   "metadata": {},
   "outputs": [
    {
     "name": "stdout",
     "output_type": "stream",
     "text": [
      "+-------------+----------+--------+------------+--------+-----+\n",
      "|customer_name|      date|category|product_name|quantity|price|\n",
      "+-------------+----------+--------+------------+--------+-----+\n",
      "|     Geoffrey|2016-04-22|       A|      apples|       1| 50.0|\n",
      "|     Geoffrey|2016-05-03|       B|        Lamp|       2| 38.0|\n",
      "|     Geoffrey|2016-05-03|       D|Solar Pannel|       1| 29.0|\n",
      "|     Geoffrey|2016-05-03|       A|      apples|       3| 50.0|\n",
      "|     Geoffrey|2016-05-03|       C|        Rice|       5| 15.0|\n",
      "+-------------+----------+--------+------------+--------+-----+\n",
      "\n"
     ]
    }
   ],
   "source": [
    "purchases_df.limit(5).show()"
   ]
  },
  {
   "cell_type": "code",
   "execution_count": 9,
   "metadata": {},
   "outputs": [
    {
     "data": {
      "text/html": [
       "<div>\n",
       "<style scoped>\n",
       "    .dataframe tbody tr th:only-of-type {\n",
       "        vertical-align: middle;\n",
       "    }\n",
       "\n",
       "    .dataframe tbody tr th {\n",
       "        vertical-align: top;\n",
       "    }\n",
       "\n",
       "    .dataframe thead th {\n",
       "        text-align: right;\n",
       "    }\n",
       "</style>\n",
       "<table border=\"1\" class=\"dataframe\">\n",
       "  <thead>\n",
       "    <tr style=\"text-align: right;\">\n",
       "      <th></th>\n",
       "      <th>customer_name</th>\n",
       "      <th>date</th>\n",
       "      <th>category</th>\n",
       "      <th>product_name</th>\n",
       "      <th>quantity</th>\n",
       "      <th>price</th>\n",
       "    </tr>\n",
       "  </thead>\n",
       "  <tbody>\n",
       "    <tr>\n",
       "      <th>0</th>\n",
       "      <td>Geoffrey</td>\n",
       "      <td>2016-04-22</td>\n",
       "      <td>A</td>\n",
       "      <td>apples</td>\n",
       "      <td>1</td>\n",
       "      <td>50.0</td>\n",
       "    </tr>\n",
       "    <tr>\n",
       "      <th>1</th>\n",
       "      <td>Geoffrey</td>\n",
       "      <td>2016-05-03</td>\n",
       "      <td>B</td>\n",
       "      <td>Lamp</td>\n",
       "      <td>2</td>\n",
       "      <td>38.0</td>\n",
       "    </tr>\n",
       "    <tr>\n",
       "      <th>2</th>\n",
       "      <td>Geoffrey</td>\n",
       "      <td>2016-05-03</td>\n",
       "      <td>D</td>\n",
       "      <td>Solar Pannel</td>\n",
       "      <td>1</td>\n",
       "      <td>29.0</td>\n",
       "    </tr>\n",
       "    <tr>\n",
       "      <th>3</th>\n",
       "      <td>Geoffrey</td>\n",
       "      <td>2016-05-03</td>\n",
       "      <td>A</td>\n",
       "      <td>apples</td>\n",
       "      <td>3</td>\n",
       "      <td>50.0</td>\n",
       "    </tr>\n",
       "    <tr>\n",
       "      <th>4</th>\n",
       "      <td>Geoffrey</td>\n",
       "      <td>2016-05-03</td>\n",
       "      <td>C</td>\n",
       "      <td>Rice</td>\n",
       "      <td>5</td>\n",
       "      <td>15.0</td>\n",
       "    </tr>\n",
       "  </tbody>\n",
       "</table>\n",
       "</div>"
      ],
      "text/plain": [
       "  customer_name        date category  product_name  quantity  price\n",
       "0      Geoffrey  2016-04-22        A        apples         1   50.0\n",
       "1      Geoffrey  2016-05-03        B          Lamp         2   38.0\n",
       "2      Geoffrey  2016-05-03        D  Solar Pannel         1   29.0\n",
       "3      Geoffrey  2016-05-03        A        apples         3   50.0\n",
       "4      Geoffrey  2016-05-03        C          Rice         5   15.0"
      ]
     },
     "execution_count": 9,
     "metadata": {},
     "output_type": "execute_result"
    }
   ],
   "source": [
    "purchases_df.limit(5).toPandas().head()"
   ]
  },
  {
   "cell_type": "code",
   "execution_count": 10,
   "metadata": {},
   "outputs": [
    {
     "data": {
      "text/plain": [
       "DataFrame[customer_name: string, date: string, category: string, product_name: string, quantity: bigint, price: double]"
      ]
     },
     "execution_count": 10,
     "metadata": {},
     "output_type": "execute_result"
    }
   ],
   "source": [
    "# use persist if we are planning on performing multiple actions on it\n",
    "# kind of checkpoint\n",
    "purchases_df.persist()"
   ]
  },
  {
   "cell_type": "code",
   "execution_count": 11,
   "metadata": {},
   "outputs": [
    {
     "name": "stdout",
     "output_type": "stream",
     "text": [
      "+--------------------+\n",
      "|        product_name|\n",
      "+--------------------+\n",
      "|             bananas|\n",
      "|Book: Crime and P...|\n",
      "|                Lamp|\n",
      "|         Recycle bin|\n",
      "|              apples|\n",
      "|        Solar Pannel|\n",
      "|     Book: The noose|\n",
      "|                Rice|\n",
      "|          space ship|\n",
      "|         Motor skate|\n",
      "+--------------------+\n",
      "\n"
     ]
    }
   ],
   "source": [
    "products_df = purchases_df.select('product_name').distinct()\n",
    "products_df.show()"
   ]
  },
  {
   "cell_type": "markdown",
   "metadata": {},
   "source": [
    "# Summary statistics on certain columns"
   ]
  },
  {
   "cell_type": "code",
   "execution_count": 12,
   "metadata": {},
   "outputs": [
    {
     "name": "stdout",
     "output_type": "stream",
     "text": [
      "+-------+------------------+-----------------+\n",
      "|summary|          quantity|            price|\n",
      "+-------+------------------+-----------------+\n",
      "|  count|                39|               39|\n",
      "|   mean| 4.153846153846154|68.94871794871794|\n",
      "| stddev|2.9694803863945936|59.75958355996516|\n",
      "|    min|                 1|             15.0|\n",
      "|    max|                15|            227.0|\n",
      "+-------+------------------+-----------------+\n",
      "\n"
     ]
    }
   ],
   "source": [
    "basic_stats_df = purchases_df.describe('quantity','price')\n",
    "basic_stats_df.show()"
   ]
  },
  {
   "cell_type": "markdown",
   "metadata": {},
   "source": [
    "# Contingency tables"
   ]
  },
  {
   "cell_type": "code",
   "execution_count": 13,
   "metadata": {},
   "outputs": [
    {
     "name": "stdout",
     "output_type": "stream",
     "text": [
      "+--------------------------+--------------------------+---------------+----+-----------+-----------+----+------------+------+-------+----------+\n",
      "|customer_name_product_name|Book: Crime and Punishment|Book: The noose|Lamp|Motor skate|Recycle bin|Rice|Solar Pannel|apples|bananas|space ship|\n",
      "+--------------------------+--------------------------+---------------+----+-----------+-----------+----+------------+------+-------+----------+\n",
      "|                  Geoffrey|                         0|              1|   1|          1|          0|   1|           1|     3|      1|         0|\n",
      "|                    Yoshua|                         0|              0|   1|          1|          1|   1|           0|     1|      2|         2|\n",
      "|                      Yann|                         1|              1|   2|          2|          2|   1|           1|     0|      2|         1|\n",
      "|                    Jurgen|                         0|              0|   0|          2|          1|   1|           0|     0|      3|         1|\n",
      "+--------------------------+--------------------------+---------------+----+-----------+-----------+----+------------+------+-------+----------+\n",
      "\n"
     ]
    }
   ],
   "source": [
    "prod_freq_per_cust = purchases_df.crosstab('customer_name','product_name')\n",
    "prod_freq_per_cust.show()"
   ]
  },
  {
   "cell_type": "code",
   "execution_count": 14,
   "metadata": {},
   "outputs": [
    {
     "data": {
      "text/html": [
       "<div>\n",
       "<style scoped>\n",
       "    .dataframe tbody tr th:only-of-type {\n",
       "        vertical-align: middle;\n",
       "    }\n",
       "\n",
       "    .dataframe tbody tr th {\n",
       "        vertical-align: top;\n",
       "    }\n",
       "\n",
       "    .dataframe thead th {\n",
       "        text-align: right;\n",
       "    }\n",
       "</style>\n",
       "<table border=\"1\" class=\"dataframe\">\n",
       "  <thead>\n",
       "    <tr style=\"text-align: right;\">\n",
       "      <th></th>\n",
       "      <th>customer_name_product_name</th>\n",
       "      <th>Book: Crime and Punishment</th>\n",
       "      <th>Book: The noose</th>\n",
       "      <th>Lamp</th>\n",
       "      <th>Motor skate</th>\n",
       "      <th>Recycle bin</th>\n",
       "      <th>Rice</th>\n",
       "      <th>Solar Pannel</th>\n",
       "      <th>apples</th>\n",
       "      <th>bananas</th>\n",
       "      <th>space ship</th>\n",
       "    </tr>\n",
       "  </thead>\n",
       "  <tbody>\n",
       "    <tr>\n",
       "      <th>0</th>\n",
       "      <td>Geoffrey</td>\n",
       "      <td>0</td>\n",
       "      <td>1</td>\n",
       "      <td>1</td>\n",
       "      <td>1</td>\n",
       "      <td>0</td>\n",
       "      <td>1</td>\n",
       "      <td>1</td>\n",
       "      <td>3</td>\n",
       "      <td>1</td>\n",
       "      <td>0</td>\n",
       "    </tr>\n",
       "    <tr>\n",
       "      <th>1</th>\n",
       "      <td>Yoshua</td>\n",
       "      <td>0</td>\n",
       "      <td>0</td>\n",
       "      <td>1</td>\n",
       "      <td>1</td>\n",
       "      <td>1</td>\n",
       "      <td>1</td>\n",
       "      <td>0</td>\n",
       "      <td>1</td>\n",
       "      <td>2</td>\n",
       "      <td>2</td>\n",
       "    </tr>\n",
       "    <tr>\n",
       "      <th>2</th>\n",
       "      <td>Yann</td>\n",
       "      <td>1</td>\n",
       "      <td>1</td>\n",
       "      <td>2</td>\n",
       "      <td>2</td>\n",
       "      <td>2</td>\n",
       "      <td>1</td>\n",
       "      <td>1</td>\n",
       "      <td>0</td>\n",
       "      <td>2</td>\n",
       "      <td>1</td>\n",
       "    </tr>\n",
       "    <tr>\n",
       "      <th>3</th>\n",
       "      <td>Jurgen</td>\n",
       "      <td>0</td>\n",
       "      <td>0</td>\n",
       "      <td>0</td>\n",
       "      <td>2</td>\n",
       "      <td>1</td>\n",
       "      <td>1</td>\n",
       "      <td>0</td>\n",
       "      <td>0</td>\n",
       "      <td>3</td>\n",
       "      <td>1</td>\n",
       "    </tr>\n",
       "  </tbody>\n",
       "</table>\n",
       "</div>"
      ],
      "text/plain": [
       "  customer_name_product_name  Book: Crime and Punishment  Book: The noose  \\\n",
       "0                   Geoffrey                           0                1   \n",
       "1                     Yoshua                           0                0   \n",
       "2                       Yann                           1                1   \n",
       "3                     Jurgen                           0                0   \n",
       "\n",
       "   Lamp  Motor skate  Recycle bin  Rice  Solar Pannel  apples  bananas  \\\n",
       "0     1            1            0     1             1       3        1   \n",
       "1     1            1            1     1             0       1        2   \n",
       "2     2            2            2     1             1       0        2   \n",
       "3     0            2            1     1             0       0        3   \n",
       "\n",
       "   space ship  \n",
       "0           0  \n",
       "1           2  \n",
       "2           1  \n",
       "3           1  "
      ]
     },
     "execution_count": 14,
     "metadata": {},
     "output_type": "execute_result"
    }
   ],
   "source": [
    "prod_freq_per_cust.toPandas()\n",
    "# it only counts rows"
   ]
  },
  {
   "cell_type": "code",
   "execution_count": 15,
   "metadata": {},
   "outputs": [
    {
     "data": {
      "text/plain": [
       "['customer_name_product_name',\n",
       " 'Book: Crime and Punishment',\n",
       " 'Book: The noose',\n",
       " 'Lamp',\n",
       " 'Motor skate',\n",
       " 'Recycle bin',\n",
       " 'Rice',\n",
       " 'Solar Pannel',\n",
       " 'apples',\n",
       " 'bananas',\n",
       " 'space ship']"
      ]
     },
     "execution_count": 15,
     "metadata": {},
     "output_type": "execute_result"
    }
   ],
   "source": [
    "# look at columns\n",
    "colnames = prod_freq_per_cust.columns\n",
    "colnames"
   ]
  },
  {
   "cell_type": "code",
   "execution_count": 16,
   "metadata": {},
   "outputs": [
    {
     "data": {
      "text/plain": [
       "['Book: Crime and Punishment', 'Book: The noose', 'Lamp', 'Motor skate']"
      ]
     },
     "execution_count": 16,
     "metadata": {},
     "output_type": "execute_result"
    }
   ],
   "source": [
    "# pick some of the columns\n",
    "colnames[1:5] #1 to 4"
   ]
  },
  {
   "cell_type": "code",
   "execution_count": 17,
   "metadata": {},
   "outputs": [
    {
     "data": {
      "text/plain": [
       "['Book: Crime and Punishment',\n",
       " 'Book: The noose',\n",
       " 'Lamp',\n",
       " 'Motor skate',\n",
       " 'Recycle bin',\n",
       " 'Rice',\n",
       " 'Solar Pannel',\n",
       " 'apples',\n",
       " 'bananas']"
      ]
     },
     "execution_count": 17,
     "metadata": {},
     "output_type": "execute_result"
    }
   ],
   "source": [
    "colnames[1:len(colnames)-1]"
   ]
  },
  {
   "cell_type": "code",
   "execution_count": 18,
   "metadata": {},
   "outputs": [
    {
     "data": {
      "text/html": [
       "<div>\n",
       "<style scoped>\n",
       "    .dataframe tbody tr th:only-of-type {\n",
       "        vertical-align: middle;\n",
       "    }\n",
       "\n",
       "    .dataframe tbody tr th {\n",
       "        vertical-align: top;\n",
       "    }\n",
       "\n",
       "    .dataframe thead th {\n",
       "        text-align: right;\n",
       "    }\n",
       "</style>\n",
       "<table border=\"1\" class=\"dataframe\">\n",
       "  <thead>\n",
       "    <tr style=\"text-align: right;\">\n",
       "      <th></th>\n",
       "      <th>summary</th>\n",
       "      <th>customer_name_product_name</th>\n",
       "      <th>Book: Crime and Punishment</th>\n",
       "      <th>Book: The noose</th>\n",
       "      <th>Lamp</th>\n",
       "      <th>Motor skate</th>\n",
       "      <th>Recycle bin</th>\n",
       "      <th>Rice</th>\n",
       "      <th>Solar Pannel</th>\n",
       "      <th>apples</th>\n",
       "      <th>bananas</th>\n",
       "      <th>space ship</th>\n",
       "    </tr>\n",
       "  </thead>\n",
       "  <tbody>\n",
       "    <tr>\n",
       "      <th>0</th>\n",
       "      <td>count</td>\n",
       "      <td>4</td>\n",
       "      <td>4</td>\n",
       "      <td>4</td>\n",
       "      <td>4</td>\n",
       "      <td>4</td>\n",
       "      <td>4</td>\n",
       "      <td>4</td>\n",
       "      <td>4</td>\n",
       "      <td>4</td>\n",
       "      <td>4</td>\n",
       "      <td>4</td>\n",
       "    </tr>\n",
       "    <tr>\n",
       "      <th>1</th>\n",
       "      <td>mean</td>\n",
       "      <td>None</td>\n",
       "      <td>0.25</td>\n",
       "      <td>0.5</td>\n",
       "      <td>1.0</td>\n",
       "      <td>1.5</td>\n",
       "      <td>1.0</td>\n",
       "      <td>1.0</td>\n",
       "      <td>0.5</td>\n",
       "      <td>1.0</td>\n",
       "      <td>2.0</td>\n",
       "      <td>1.0</td>\n",
       "    </tr>\n",
       "    <tr>\n",
       "      <th>2</th>\n",
       "      <td>stddev</td>\n",
       "      <td>None</td>\n",
       "      <td>0.5</td>\n",
       "      <td>0.5773502691896257</td>\n",
       "      <td>0.816496580927726</td>\n",
       "      <td>0.5773502691896257</td>\n",
       "      <td>0.816496580927726</td>\n",
       "      <td>0.0</td>\n",
       "      <td>0.5773502691896257</td>\n",
       "      <td>1.4142135623730951</td>\n",
       "      <td>0.816496580927726</td>\n",
       "      <td>0.816496580927726</td>\n",
       "    </tr>\n",
       "    <tr>\n",
       "      <th>3</th>\n",
       "      <td>min</td>\n",
       "      <td>Geoffrey</td>\n",
       "      <td>0</td>\n",
       "      <td>0</td>\n",
       "      <td>0</td>\n",
       "      <td>1</td>\n",
       "      <td>0</td>\n",
       "      <td>1</td>\n",
       "      <td>0</td>\n",
       "      <td>0</td>\n",
       "      <td>1</td>\n",
       "      <td>0</td>\n",
       "    </tr>\n",
       "    <tr>\n",
       "      <th>4</th>\n",
       "      <td>max</td>\n",
       "      <td>Yoshua</td>\n",
       "      <td>1</td>\n",
       "      <td>1</td>\n",
       "      <td>2</td>\n",
       "      <td>2</td>\n",
       "      <td>2</td>\n",
       "      <td>1</td>\n",
       "      <td>1</td>\n",
       "      <td>3</td>\n",
       "      <td>3</td>\n",
       "      <td>2</td>\n",
       "    </tr>\n",
       "  </tbody>\n",
       "</table>\n",
       "</div>"
      ],
      "text/plain": [
       "  summary customer_name_product_name Book: Crime and Punishment  \\\n",
       "0   count                          4                          4   \n",
       "1    mean                       None                       0.25   \n",
       "2  stddev                       None                        0.5   \n",
       "3     min                   Geoffrey                          0   \n",
       "4     max                     Yoshua                          1   \n",
       "\n",
       "      Book: The noose               Lamp         Motor skate  \\\n",
       "0                   4                  4                   4   \n",
       "1                 0.5                1.0                 1.5   \n",
       "2  0.5773502691896257  0.816496580927726  0.5773502691896257   \n",
       "3                   0                  0                   1   \n",
       "4                   1                  2                   2   \n",
       "\n",
       "         Recycle bin Rice        Solar Pannel              apples  \\\n",
       "0                  4    4                   4                   4   \n",
       "1                1.0  1.0                 0.5                 1.0   \n",
       "2  0.816496580927726  0.0  0.5773502691896257  1.4142135623730951   \n",
       "3                  0    1                   0                   0   \n",
       "4                  2    1                   1                   3   \n",
       "\n",
       "             bananas         space ship  \n",
       "0                  4                  4  \n",
       "1                2.0                1.0  \n",
       "2  0.816496580927726  0.816496580927726  \n",
       "3                  1                  0  \n",
       "4                  3                  2  "
      ]
     },
     "execution_count": 18,
     "metadata": {},
     "output_type": "execute_result"
    }
   ],
   "source": [
    "prod_freq_per_cust.describe(colnames).toPandas()\n",
    "#prod_freq_per_cust is spark DF"
   ]
  },
  {
   "cell_type": "code",
   "execution_count": 19,
   "metadata": {},
   "outputs": [],
   "source": [
    "prod_freq_per_cust2 = purchases_df.groupBy('customer_name','product_name').count()"
   ]
  },
  {
   "cell_type": "code",
   "execution_count": 20,
   "metadata": {},
   "outputs": [
    {
     "name": "stdout",
     "output_type": "stream",
     "text": [
      "+-------------+---------------+-----+\n",
      "|customer_name|   product_name|count|\n",
      "+-------------+---------------+-----+\n",
      "|       Jurgen|        bananas|    3|\n",
      "|     Geoffrey|           Lamp|    1|\n",
      "|       Yoshua|         apples|    1|\n",
      "|         Yann|           Lamp|    2|\n",
      "|       Jurgen|     space ship|    1|\n",
      "|       Yoshua|        bananas|    2|\n",
      "|     Geoffrey|Book: The noose|    1|\n",
      "|         Yann|           Rice|    1|\n",
      "|         Yann|    Recycle bin|    2|\n",
      "|         Yann|     space ship|    1|\n",
      "|     Geoffrey|   Solar Pannel|    1|\n",
      "|     Geoffrey|    Motor skate|    1|\n",
      "|       Yoshua|    Motor skate|    1|\n",
      "|         Yann|        bananas|    2|\n",
      "|       Yoshua|           Lamp|    1|\n",
      "|     Geoffrey|         apples|    3|\n",
      "|       Jurgen|    Motor skate|    2|\n",
      "|       Yoshua|           Rice|    1|\n",
      "|       Jurgen|    Recycle bin|    1|\n",
      "|     Geoffrey|           Rice|    1|\n",
      "+-------------+---------------+-----+\n",
      "only showing top 20 rows\n",
      "\n"
     ]
    }
   ],
   "source": [
    "prod_freq_per_cust2.show()"
   ]
  },
  {
   "cell_type": "code",
   "execution_count": 21,
   "metadata": {},
   "outputs": [
    {
     "name": "stdout",
     "output_type": "stream",
     "text": [
      "+-------------+---------------+-------------------+\n",
      "|customer_name|   product_name|num_purchase_events|\n",
      "+-------------+---------------+-------------------+\n",
      "|       Jurgen|        bananas|                  3|\n",
      "|     Geoffrey|           Lamp|                  1|\n",
      "|       Yoshua|         apples|                  1|\n",
      "|         Yann|           Lamp|                  2|\n",
      "|       Jurgen|     space ship|                  1|\n",
      "|       Yoshua|        bananas|                  2|\n",
      "|     Geoffrey|Book: The noose|                  1|\n",
      "|         Yann|           Rice|                  1|\n",
      "|         Yann|    Recycle bin|                  2|\n",
      "|         Yann|     space ship|                  1|\n",
      "|     Geoffrey|   Solar Pannel|                  1|\n",
      "|     Geoffrey|    Motor skate|                  1|\n",
      "|       Yoshua|    Motor skate|                  1|\n",
      "|         Yann|        bananas|                  2|\n",
      "|       Yoshua|           Lamp|                  1|\n",
      "|     Geoffrey|         apples|                  3|\n",
      "|       Jurgen|    Motor skate|                  2|\n",
      "|       Yoshua|           Rice|                  1|\n",
      "|       Jurgen|    Recycle bin|                  1|\n",
      "|     Geoffrey|           Rice|                  1|\n",
      "+-------------+---------------+-------------------+\n",
      "only showing top 20 rows\n",
      "\n"
     ]
    }
   ],
   "source": [
    "# rename the column\n",
    "prod_freq_per_cust2 = prod_freq_per_cust2.withColumnRenamed('count', 'num_purchase_events')\n",
    "prod_freq_per_cust2.show()"
   ]
  },
  {
   "cell_type": "code",
   "execution_count": 22,
   "metadata": {},
   "outputs": [
    {
     "name": "stdout",
     "output_type": "stream",
     "text": [
      "+--------------------+------------------------+\n",
      "|        product_name|avg(num_purchase_events)|\n",
      "+--------------------+------------------------+\n",
      "|             bananas|                     2.0|\n",
      "|Book: Crime and P...|                     1.0|\n",
      "|                Lamp|      1.3333333333333333|\n",
      "|         Recycle bin|      1.3333333333333333|\n",
      "|              apples|                     2.0|\n",
      "|        Solar Pannel|                     1.0|\n",
      "|     Book: The noose|                     1.0|\n",
      "|                Rice|                     1.0|\n",
      "|          space ship|      1.3333333333333333|\n",
      "|         Motor skate|                     1.5|\n",
      "+--------------------+------------------------+\n",
      "\n"
     ]
    }
   ],
   "source": [
    "# average\n",
    "prod_freq_per_cust2.groupBy('product_name').avg('num_purchase_events').show()"
   ]
  },
  {
   "cell_type": "markdown",
   "metadata": {},
   "source": [
    "# Pivoting columns"
   ]
  },
  {
   "cell_type": "code",
   "execution_count": 23,
   "metadata": {},
   "outputs": [],
   "source": [
    "total_prod_per_cust = purchases_df.groupBy('customer_name').pivot('product_name').sum('quantity')\n",
    "\n",
    "# group by = group by; pivot = column; sum = actual value"
   ]
  },
  {
   "cell_type": "code",
   "execution_count": 24,
   "metadata": {},
   "outputs": [
    {
     "data": {
      "text/html": [
       "<div>\n",
       "<style scoped>\n",
       "    .dataframe tbody tr th:only-of-type {\n",
       "        vertical-align: middle;\n",
       "    }\n",
       "\n",
       "    .dataframe tbody tr th {\n",
       "        vertical-align: top;\n",
       "    }\n",
       "\n",
       "    .dataframe thead th {\n",
       "        text-align: right;\n",
       "    }\n",
       "</style>\n",
       "<table border=\"1\" class=\"dataframe\">\n",
       "  <thead>\n",
       "    <tr style=\"text-align: right;\">\n",
       "      <th></th>\n",
       "      <th>customer_name</th>\n",
       "      <th>Book: Crime and Punishment</th>\n",
       "      <th>Book: The noose</th>\n",
       "      <th>Lamp</th>\n",
       "      <th>Motor skate</th>\n",
       "      <th>Recycle bin</th>\n",
       "      <th>Rice</th>\n",
       "      <th>Solar Pannel</th>\n",
       "      <th>apples</th>\n",
       "      <th>bananas</th>\n",
       "      <th>space ship</th>\n",
       "    </tr>\n",
       "  </thead>\n",
       "  <tbody>\n",
       "    <tr>\n",
       "      <th>0</th>\n",
       "      <td>Yann</td>\n",
       "      <td>5.0</td>\n",
       "      <td>5.0</td>\n",
       "      <td>3.0</td>\n",
       "      <td>2</td>\n",
       "      <td>10.0</td>\n",
       "      <td>15</td>\n",
       "      <td>5.0</td>\n",
       "      <td>NaN</td>\n",
       "      <td>6</td>\n",
       "      <td>1.0</td>\n",
       "    </tr>\n",
       "    <tr>\n",
       "      <th>1</th>\n",
       "      <td>Jurgen</td>\n",
       "      <td>NaN</td>\n",
       "      <td>NaN</td>\n",
       "      <td>NaN</td>\n",
       "      <td>3</td>\n",
       "      <td>5.0</td>\n",
       "      <td>5</td>\n",
       "      <td>NaN</td>\n",
       "      <td>NaN</td>\n",
       "      <td>15</td>\n",
       "      <td>1.0</td>\n",
       "    </tr>\n",
       "    <tr>\n",
       "      <th>2</th>\n",
       "      <td>Yoshua</td>\n",
       "      <td>NaN</td>\n",
       "      <td>NaN</td>\n",
       "      <td>2.0</td>\n",
       "      <td>4</td>\n",
       "      <td>5.0</td>\n",
       "      <td>5</td>\n",
       "      <td>NaN</td>\n",
       "      <td>10.0</td>\n",
       "      <td>18</td>\n",
       "      <td>7.0</td>\n",
       "    </tr>\n",
       "    <tr>\n",
       "      <th>3</th>\n",
       "      <td>Geoffrey</td>\n",
       "      <td>NaN</td>\n",
       "      <td>1.0</td>\n",
       "      <td>2.0</td>\n",
       "      <td>7</td>\n",
       "      <td>NaN</td>\n",
       "      <td>5</td>\n",
       "      <td>1.0</td>\n",
       "      <td>9.0</td>\n",
       "      <td>5</td>\n",
       "      <td>NaN</td>\n",
       "    </tr>\n",
       "  </tbody>\n",
       "</table>\n",
       "</div>"
      ],
      "text/plain": [
       "  customer_name  Book: Crime and Punishment  Book: The noose  Lamp  \\\n",
       "0          Yann                         5.0              5.0   3.0   \n",
       "1        Jurgen                         NaN              NaN   NaN   \n",
       "2        Yoshua                         NaN              NaN   2.0   \n",
       "3      Geoffrey                         NaN              1.0   2.0   \n",
       "\n",
       "   Motor skate  Recycle bin  Rice  Solar Pannel  apples  bananas  space ship  \n",
       "0            2         10.0    15           5.0     NaN        6         1.0  \n",
       "1            3          5.0     5           NaN     NaN       15         1.0  \n",
       "2            4          5.0     5           NaN    10.0       18         7.0  \n",
       "3            7          NaN     5           1.0     9.0        5         NaN  "
      ]
     },
     "execution_count": 24,
     "metadata": {},
     "output_type": "execute_result"
    }
   ],
   "source": [
    "total_prod_per_cust.toPandas()\n",
    "# it's unit total"
   ]
  },
  {
   "cell_type": "code",
   "execution_count": 25,
   "metadata": {},
   "outputs": [],
   "source": [
    "total_prod_per_cust = total_prod_per_cust.na.fill(0)"
   ]
  },
  {
   "cell_type": "code",
   "execution_count": 26,
   "metadata": {},
   "outputs": [
    {
     "data": {
      "text/html": [
       "<div>\n",
       "<style scoped>\n",
       "    .dataframe tbody tr th:only-of-type {\n",
       "        vertical-align: middle;\n",
       "    }\n",
       "\n",
       "    .dataframe tbody tr th {\n",
       "        vertical-align: top;\n",
       "    }\n",
       "\n",
       "    .dataframe thead th {\n",
       "        text-align: right;\n",
       "    }\n",
       "</style>\n",
       "<table border=\"1\" class=\"dataframe\">\n",
       "  <thead>\n",
       "    <tr style=\"text-align: right;\">\n",
       "      <th></th>\n",
       "      <th>customer_name</th>\n",
       "      <th>Book: Crime and Punishment</th>\n",
       "      <th>Book: The noose</th>\n",
       "      <th>Lamp</th>\n",
       "      <th>Motor skate</th>\n",
       "      <th>Recycle bin</th>\n",
       "      <th>Rice</th>\n",
       "      <th>Solar Pannel</th>\n",
       "      <th>apples</th>\n",
       "      <th>bananas</th>\n",
       "      <th>space ship</th>\n",
       "    </tr>\n",
       "  </thead>\n",
       "  <tbody>\n",
       "    <tr>\n",
       "      <th>0</th>\n",
       "      <td>Yann</td>\n",
       "      <td>5</td>\n",
       "      <td>5</td>\n",
       "      <td>3</td>\n",
       "      <td>2</td>\n",
       "      <td>10</td>\n",
       "      <td>15</td>\n",
       "      <td>5</td>\n",
       "      <td>0</td>\n",
       "      <td>6</td>\n",
       "      <td>1</td>\n",
       "    </tr>\n",
       "    <tr>\n",
       "      <th>1</th>\n",
       "      <td>Jurgen</td>\n",
       "      <td>0</td>\n",
       "      <td>0</td>\n",
       "      <td>0</td>\n",
       "      <td>3</td>\n",
       "      <td>5</td>\n",
       "      <td>5</td>\n",
       "      <td>0</td>\n",
       "      <td>0</td>\n",
       "      <td>15</td>\n",
       "      <td>1</td>\n",
       "    </tr>\n",
       "    <tr>\n",
       "      <th>2</th>\n",
       "      <td>Yoshua</td>\n",
       "      <td>0</td>\n",
       "      <td>0</td>\n",
       "      <td>2</td>\n",
       "      <td>4</td>\n",
       "      <td>5</td>\n",
       "      <td>5</td>\n",
       "      <td>0</td>\n",
       "      <td>10</td>\n",
       "      <td>18</td>\n",
       "      <td>7</td>\n",
       "    </tr>\n",
       "    <tr>\n",
       "      <th>3</th>\n",
       "      <td>Geoffrey</td>\n",
       "      <td>0</td>\n",
       "      <td>1</td>\n",
       "      <td>2</td>\n",
       "      <td>7</td>\n",
       "      <td>0</td>\n",
       "      <td>5</td>\n",
       "      <td>1</td>\n",
       "      <td>9</td>\n",
       "      <td>5</td>\n",
       "      <td>0</td>\n",
       "    </tr>\n",
       "  </tbody>\n",
       "</table>\n",
       "</div>"
      ],
      "text/plain": [
       "  customer_name  Book: Crime and Punishment  Book: The noose  Lamp  \\\n",
       "0          Yann                           5                5     3   \n",
       "1        Jurgen                           0                0     0   \n",
       "2        Yoshua                           0                0     2   \n",
       "3      Geoffrey                           0                1     2   \n",
       "\n",
       "   Motor skate  Recycle bin  Rice  Solar Pannel  apples  bananas  space ship  \n",
       "0            2           10    15             5       0        6           1  \n",
       "1            3            5     5             0       0       15           1  \n",
       "2            4            5     5             0      10       18           7  \n",
       "3            7            0     5             1       9        5           0  "
      ]
     },
     "execution_count": 26,
     "metadata": {},
     "output_type": "execute_result"
    }
   ],
   "source": [
    "total_prod_per_cust.toPandas()"
   ]
  },
  {
   "cell_type": "code",
   "execution_count": 27,
   "metadata": {},
   "outputs": [
    {
     "data": {
      "text/plain": [
       "['customer_name',\n",
       " 'Book: Crime and Punishment',\n",
       " 'Book: The noose',\n",
       " 'Lamp',\n",
       " 'Motor skate',\n",
       " 'Recycle bin',\n",
       " 'Rice',\n",
       " 'Solar Pannel',\n",
       " 'apples',\n",
       " 'bananas',\n",
       " 'space ship']"
      ]
     },
     "execution_count": 27,
     "metadata": {},
     "output_type": "execute_result"
    }
   ],
   "source": [
    "colnames = total_prod_per_cust.columns\n",
    "colnames"
   ]
  },
  {
   "cell_type": "code",
   "execution_count": 28,
   "metadata": {},
   "outputs": [],
   "source": [
    "colnames = colnames[1:]"
   ]
  },
  {
   "cell_type": "code",
   "execution_count": 29,
   "metadata": {},
   "outputs": [
    {
     "name": "stdout",
     "output_type": "stream",
     "text": [
      "+------------+-----------+\n",
      "|avg(bananas)|avg(apples)|\n",
      "+------------+-----------+\n",
      "|        11.0|       4.75|\n",
      "+------------+-----------+\n",
      "\n"
     ]
    }
   ],
   "source": [
    "total_prod_per_cust.groupBy().avg('bananas','apples').show()"
   ]
  },
  {
   "cell_type": "code",
   "execution_count": 30,
   "metadata": {},
   "outputs": [
    {
     "data": {
      "text/html": [
       "<div>\n",
       "<style scoped>\n",
       "    .dataframe tbody tr th:only-of-type {\n",
       "        vertical-align: middle;\n",
       "    }\n",
       "\n",
       "    .dataframe tbody tr th {\n",
       "        vertical-align: top;\n",
       "    }\n",
       "\n",
       "    .dataframe thead th {\n",
       "        text-align: right;\n",
       "    }\n",
       "</style>\n",
       "<table border=\"1\" class=\"dataframe\">\n",
       "  <thead>\n",
       "    <tr style=\"text-align: right;\">\n",
       "      <th></th>\n",
       "      <th>avg(Book: Crime and Punishment)</th>\n",
       "      <th>avg(Book: The noose)</th>\n",
       "      <th>avg(Lamp)</th>\n",
       "      <th>avg(Motor skate)</th>\n",
       "      <th>avg(Recycle bin)</th>\n",
       "      <th>avg(Rice)</th>\n",
       "      <th>avg(Solar Pannel)</th>\n",
       "      <th>avg(apples)</th>\n",
       "      <th>avg(bananas)</th>\n",
       "      <th>avg(space ship)</th>\n",
       "    </tr>\n",
       "  </thead>\n",
       "  <tbody>\n",
       "    <tr>\n",
       "      <th>0</th>\n",
       "      <td>1.25</td>\n",
       "      <td>1.5</td>\n",
       "      <td>1.75</td>\n",
       "      <td>4.0</td>\n",
       "      <td>5.0</td>\n",
       "      <td>7.5</td>\n",
       "      <td>1.5</td>\n",
       "      <td>4.75</td>\n",
       "      <td>11.0</td>\n",
       "      <td>2.25</td>\n",
       "    </tr>\n",
       "  </tbody>\n",
       "</table>\n",
       "</div>"
      ],
      "text/plain": [
       "   avg(Book: Crime and Punishment)  avg(Book: The noose)  avg(Lamp)  \\\n",
       "0                             1.25                   1.5       1.75   \n",
       "\n",
       "   avg(Motor skate)  avg(Recycle bin)  avg(Rice)  avg(Solar Pannel)  \\\n",
       "0               4.0               5.0        7.5                1.5   \n",
       "\n",
       "   avg(apples)  avg(bananas)  avg(space ship)  \n",
       "0         4.75          11.0             2.25  "
      ]
     },
     "execution_count": 30,
     "metadata": {},
     "output_type": "execute_result"
    }
   ],
   "source": [
    "total_prod_per_cust.groupBy().avg(*colnames).toPandas()\n",
    "# put one star in front of list, it will take all elements inside of list"
   ]
  },
  {
   "cell_type": "markdown",
   "metadata": {},
   "source": [
    "# UDFs"
   ]
  },
  {
   "cell_type": "code",
   "execution_count": 31,
   "metadata": {},
   "outputs": [
    {
     "data": {
      "text/plain": [
       "['customer_name', 'date', 'category', 'product_name', 'quantity', 'price']"
      ]
     },
     "execution_count": 31,
     "metadata": {},
     "output_type": "execute_result"
    }
   ],
   "source": [
    "purchases_df.columns"
   ]
  },
  {
   "cell_type": "code",
   "execution_count": 32,
   "metadata": {},
   "outputs": [],
   "source": [
    "from pyspark.sql.types import DoubleType\n",
    "\n",
    "def amount_spent(quantity,price):\n",
    "    return quantity*price\n",
    "\n",
    "amount_spent_udf = F.udf(amount_spent,DoubleType())\n",
    "# F.udf like map"
   ]
  },
  {
   "cell_type": "code",
   "execution_count": 33,
   "metadata": {},
   "outputs": [
    {
     "data": {
      "text/html": [
       "<div>\n",
       "<style scoped>\n",
       "    .dataframe tbody tr th:only-of-type {\n",
       "        vertical-align: middle;\n",
       "    }\n",
       "\n",
       "    .dataframe tbody tr th {\n",
       "        vertical-align: top;\n",
       "    }\n",
       "\n",
       "    .dataframe thead th {\n",
       "        text-align: right;\n",
       "    }\n",
       "</style>\n",
       "<table border=\"1\" class=\"dataframe\">\n",
       "  <thead>\n",
       "    <tr style=\"text-align: right;\">\n",
       "      <th></th>\n",
       "      <th>customer_name</th>\n",
       "      <th>date</th>\n",
       "      <th>category</th>\n",
       "      <th>product_name</th>\n",
       "      <th>quantity</th>\n",
       "      <th>price</th>\n",
       "      <th>amount_spent</th>\n",
       "    </tr>\n",
       "  </thead>\n",
       "  <tbody>\n",
       "    <tr>\n",
       "      <th>0</th>\n",
       "      <td>Geoffrey</td>\n",
       "      <td>2016-04-22</td>\n",
       "      <td>A</td>\n",
       "      <td>apples</td>\n",
       "      <td>1</td>\n",
       "      <td>50.0</td>\n",
       "      <td>50.0</td>\n",
       "    </tr>\n",
       "    <tr>\n",
       "      <th>1</th>\n",
       "      <td>Geoffrey</td>\n",
       "      <td>2016-05-03</td>\n",
       "      <td>B</td>\n",
       "      <td>Lamp</td>\n",
       "      <td>2</td>\n",
       "      <td>38.0</td>\n",
       "      <td>76.0</td>\n",
       "    </tr>\n",
       "    <tr>\n",
       "      <th>2</th>\n",
       "      <td>Geoffrey</td>\n",
       "      <td>2016-05-03</td>\n",
       "      <td>D</td>\n",
       "      <td>Solar Pannel</td>\n",
       "      <td>1</td>\n",
       "      <td>29.0</td>\n",
       "      <td>29.0</td>\n",
       "    </tr>\n",
       "    <tr>\n",
       "      <th>3</th>\n",
       "      <td>Geoffrey</td>\n",
       "      <td>2016-05-03</td>\n",
       "      <td>A</td>\n",
       "      <td>apples</td>\n",
       "      <td>3</td>\n",
       "      <td>50.0</td>\n",
       "      <td>150.0</td>\n",
       "    </tr>\n",
       "    <tr>\n",
       "      <th>4</th>\n",
       "      <td>Geoffrey</td>\n",
       "      <td>2016-05-03</td>\n",
       "      <td>C</td>\n",
       "      <td>Rice</td>\n",
       "      <td>5</td>\n",
       "      <td>15.0</td>\n",
       "      <td>75.0</td>\n",
       "    </tr>\n",
       "  </tbody>\n",
       "</table>\n",
       "</div>"
      ],
      "text/plain": [
       "  customer_name        date category  product_name  quantity  price  \\\n",
       "0      Geoffrey  2016-04-22        A        apples         1   50.0   \n",
       "1      Geoffrey  2016-05-03        B          Lamp         2   38.0   \n",
       "2      Geoffrey  2016-05-03        D  Solar Pannel         1   29.0   \n",
       "3      Geoffrey  2016-05-03        A        apples         3   50.0   \n",
       "4      Geoffrey  2016-05-03        C          Rice         5   15.0   \n",
       "\n",
       "   amount_spent  \n",
       "0          50.0  \n",
       "1          76.0  \n",
       "2          29.0  \n",
       "3         150.0  \n",
       "4          75.0  "
      ]
     },
     "execution_count": 33,
     "metadata": {},
     "output_type": "execute_result"
    }
   ],
   "source": [
    "purchases_df = purchases_df.withColumn('amount_spent', amount_spent_udf(F.col('quantity'), F.col('price')))\n",
    "purchases_df.limit(5).toPandas().head()"
   ]
  },
  {
   "cell_type": "markdown",
   "metadata": {},
   "source": [
    "# Windowing"
   ]
  },
  {
   "cell_type": "code",
   "execution_count": 34,
   "metadata": {},
   "outputs": [],
   "source": [
    "from pyspark.sql import Window\n",
    "\n",
    "# start by defining the window over which computations will be performed\n",
    "window = Window.partitionBy('customer_name').\\\n",
    "         orderBy('date').\\\n",
    "         rowsBetween(Window.unboundedPreceding,0)\n",
    "\n",
    "#Window.unboundedPreceding big negative number"
   ]
  },
  {
   "cell_type": "code",
   "execution_count": 35,
   "metadata": {},
   "outputs": [],
   "source": [
    "# now apply the window aggregation to compute a new column `cumulative_spend`\n",
    "purchases_df = purchases_df.withColumn('cumulative_spend',\n",
    "                                       F.sum(F.col('amount_spent')).over(window))"
   ]
  },
  {
   "cell_type": "code",
   "execution_count": 36,
   "metadata": {},
   "outputs": [
    {
     "data": {
      "text/html": [
       "<div>\n",
       "<style scoped>\n",
       "    .dataframe tbody tr th:only-of-type {\n",
       "        vertical-align: middle;\n",
       "    }\n",
       "\n",
       "    .dataframe tbody tr th {\n",
       "        vertical-align: top;\n",
       "    }\n",
       "\n",
       "    .dataframe thead th {\n",
       "        text-align: right;\n",
       "    }\n",
       "</style>\n",
       "<table border=\"1\" class=\"dataframe\">\n",
       "  <thead>\n",
       "    <tr style=\"text-align: right;\">\n",
       "      <th></th>\n",
       "      <th>customer_name</th>\n",
       "      <th>date</th>\n",
       "      <th>category</th>\n",
       "      <th>product_name</th>\n",
       "      <th>quantity</th>\n",
       "      <th>price</th>\n",
       "      <th>amount_spent</th>\n",
       "      <th>cumulative_spend</th>\n",
       "    </tr>\n",
       "  </thead>\n",
       "  <tbody>\n",
       "    <tr>\n",
       "      <th>0</th>\n",
       "      <td>Yann</td>\n",
       "      <td>2016-04-02</td>\n",
       "      <td>A</td>\n",
       "      <td>bananas</td>\n",
       "      <td>3</td>\n",
       "      <td>55.0</td>\n",
       "      <td>165.0</td>\n",
       "      <td>165.0</td>\n",
       "    </tr>\n",
       "    <tr>\n",
       "      <th>1</th>\n",
       "      <td>Yann</td>\n",
       "      <td>2016-04-02</td>\n",
       "      <td>B</td>\n",
       "      <td>Lamp</td>\n",
       "      <td>2</td>\n",
       "      <td>38.0</td>\n",
       "      <td>76.0</td>\n",
       "      <td>241.0</td>\n",
       "    </tr>\n",
       "    <tr>\n",
       "      <th>2</th>\n",
       "      <td>Yann</td>\n",
       "      <td>2016-04-03</td>\n",
       "      <td>E</td>\n",
       "      <td>Book: Crime and Punishment</td>\n",
       "      <td>5</td>\n",
       "      <td>100.0</td>\n",
       "      <td>500.0</td>\n",
       "      <td>741.0</td>\n",
       "    </tr>\n",
       "    <tr>\n",
       "      <th>3</th>\n",
       "      <td>Yann</td>\n",
       "      <td>2016-04-13</td>\n",
       "      <td>E</td>\n",
       "      <td>Book: The noose</td>\n",
       "      <td>5</td>\n",
       "      <td>125.0</td>\n",
       "      <td>625.0</td>\n",
       "      <td>1366.0</td>\n",
       "    </tr>\n",
       "    <tr>\n",
       "      <th>4</th>\n",
       "      <td>Yann</td>\n",
       "      <td>2016-04-22</td>\n",
       "      <td>B</td>\n",
       "      <td>Lamp</td>\n",
       "      <td>1</td>\n",
       "      <td>38.0</td>\n",
       "      <td>38.0</td>\n",
       "      <td>1404.0</td>\n",
       "    </tr>\n",
       "  </tbody>\n",
       "</table>\n",
       "</div>"
      ],
      "text/plain": [
       "  customer_name        date category                product_name  quantity  \\\n",
       "0          Yann  2016-04-02        A                     bananas         3   \n",
       "1          Yann  2016-04-02        B                        Lamp         2   \n",
       "2          Yann  2016-04-03        E  Book: Crime and Punishment         5   \n",
       "3          Yann  2016-04-13        E             Book: The noose         5   \n",
       "4          Yann  2016-04-22        B                        Lamp         1   \n",
       "\n",
       "   price  amount_spent  cumulative_spend  \n",
       "0   55.0         165.0             165.0  \n",
       "1   38.0          76.0             241.0  \n",
       "2  100.0         500.0             741.0  \n",
       "3  125.0         625.0            1366.0  \n",
       "4   38.0          38.0            1404.0  "
      ]
     },
     "execution_count": 36,
     "metadata": {},
     "output_type": "execute_result"
    }
   ],
   "source": [
    "purchases_df.limit(20).toPandas().head()"
   ]
  },
  {
   "cell_type": "code",
   "execution_count": 37,
   "metadata": {},
   "outputs": [],
   "source": [
    "# start by creating a UDF that converts the date string to a datetime object\n",
    "from datetime import datetime\n",
    "from pyspark.sql.types import DateType\n",
    "\n",
    "def parse_date(datestr):\n",
    "    return datetime.strptime(datestr, '%Y-%m-%d')\n",
    "\n",
    "string_to_datetime = F.udf(parse_date, DateType())"
   ]
  },
  {
   "cell_type": "code",
   "execution_count": 38,
   "metadata": {},
   "outputs": [
    {
     "data": {
      "text/html": [
       "<div>\n",
       "<style scoped>\n",
       "    .dataframe tbody tr th:only-of-type {\n",
       "        vertical-align: middle;\n",
       "    }\n",
       "\n",
       "    .dataframe tbody tr th {\n",
       "        vertical-align: top;\n",
       "    }\n",
       "\n",
       "    .dataframe thead th {\n",
       "        text-align: right;\n",
       "    }\n",
       "</style>\n",
       "<table border=\"1\" class=\"dataframe\">\n",
       "  <thead>\n",
       "    <tr style=\"text-align: right;\">\n",
       "      <th></th>\n",
       "      <th>customer_name</th>\n",
       "      <th>category</th>\n",
       "      <th>product_name</th>\n",
       "      <th>quantity</th>\n",
       "      <th>price</th>\n",
       "      <th>amount_spent</th>\n",
       "      <th>cumulative_spend</th>\n",
       "      <th>datetime</th>\n",
       "    </tr>\n",
       "  </thead>\n",
       "  <tbody>\n",
       "    <tr>\n",
       "      <th>0</th>\n",
       "      <td>Yann</td>\n",
       "      <td>A</td>\n",
       "      <td>bananas</td>\n",
       "      <td>3</td>\n",
       "      <td>55.0</td>\n",
       "      <td>165.0</td>\n",
       "      <td>165.0</td>\n",
       "      <td>2016-04-02</td>\n",
       "    </tr>\n",
       "    <tr>\n",
       "      <th>1</th>\n",
       "      <td>Yann</td>\n",
       "      <td>B</td>\n",
       "      <td>Lamp</td>\n",
       "      <td>2</td>\n",
       "      <td>38.0</td>\n",
       "      <td>76.0</td>\n",
       "      <td>241.0</td>\n",
       "      <td>2016-04-02</td>\n",
       "    </tr>\n",
       "    <tr>\n",
       "      <th>2</th>\n",
       "      <td>Yann</td>\n",
       "      <td>E</td>\n",
       "      <td>Book: Crime and Punishment</td>\n",
       "      <td>5</td>\n",
       "      <td>100.0</td>\n",
       "      <td>500.0</td>\n",
       "      <td>741.0</td>\n",
       "      <td>2016-04-03</td>\n",
       "    </tr>\n",
       "    <tr>\n",
       "      <th>3</th>\n",
       "      <td>Yann</td>\n",
       "      <td>E</td>\n",
       "      <td>Book: The noose</td>\n",
       "      <td>5</td>\n",
       "      <td>125.0</td>\n",
       "      <td>625.0</td>\n",
       "      <td>1366.0</td>\n",
       "      <td>2016-04-13</td>\n",
       "    </tr>\n",
       "    <tr>\n",
       "      <th>4</th>\n",
       "      <td>Yann</td>\n",
       "      <td>B</td>\n",
       "      <td>Lamp</td>\n",
       "      <td>1</td>\n",
       "      <td>38.0</td>\n",
       "      <td>38.0</td>\n",
       "      <td>1404.0</td>\n",
       "      <td>2016-04-22</td>\n",
       "    </tr>\n",
       "  </tbody>\n",
       "</table>\n",
       "</div>"
      ],
      "text/plain": [
       "  customer_name category                product_name  quantity  price  \\\n",
       "0          Yann        A                     bananas         3   55.0   \n",
       "1          Yann        B                        Lamp         2   38.0   \n",
       "2          Yann        E  Book: Crime and Punishment         5  100.0   \n",
       "3          Yann        E             Book: The noose         5  125.0   \n",
       "4          Yann        B                        Lamp         1   38.0   \n",
       "\n",
       "   amount_spent  cumulative_spend    datetime  \n",
       "0         165.0             165.0  2016-04-02  \n",
       "1          76.0             241.0  2016-04-02  \n",
       "2         500.0             741.0  2016-04-03  \n",
       "3         625.0            1366.0  2016-04-13  \n",
       "4          38.0            1404.0  2016-04-22  "
      ]
     },
     "execution_count": 38,
     "metadata": {},
     "output_type": "execute_result"
    }
   ],
   "source": [
    "purchases_df = purchases_df.withColumn('datetime',\n",
    "                                       string_to_datetime(F.col('date')))\n",
    "purchases_df = purchases_df.drop('date')\n",
    "purchases_df.limit(10).toPandas().head()"
   ]
  },
  {
   "cell_type": "code",
   "execution_count": 39,
   "metadata": {},
   "outputs": [
    {
     "data": {
      "text/html": [
       "<div>\n",
       "<style scoped>\n",
       "    .dataframe tbody tr th:only-of-type {\n",
       "        vertical-align: middle;\n",
       "    }\n",
       "\n",
       "    .dataframe tbody tr th {\n",
       "        vertical-align: top;\n",
       "    }\n",
       "\n",
       "    .dataframe thead th {\n",
       "        text-align: right;\n",
       "    }\n",
       "</style>\n",
       "<table border=\"1\" class=\"dataframe\">\n",
       "  <thead>\n",
       "    <tr style=\"text-align: right;\">\n",
       "      <th></th>\n",
       "      <th>customer_name</th>\n",
       "      <th>category</th>\n",
       "      <th>product_name</th>\n",
       "      <th>quantity</th>\n",
       "      <th>price</th>\n",
       "      <th>amount_spent</th>\n",
       "      <th>cumulative_spend</th>\n",
       "      <th>datetime</th>\n",
       "      <th>weekofyear</th>\n",
       "    </tr>\n",
       "  </thead>\n",
       "  <tbody>\n",
       "    <tr>\n",
       "      <th>0</th>\n",
       "      <td>Yann</td>\n",
       "      <td>A</td>\n",
       "      <td>bananas</td>\n",
       "      <td>3</td>\n",
       "      <td>55.0</td>\n",
       "      <td>165.0</td>\n",
       "      <td>165.0</td>\n",
       "      <td>2016-04-02</td>\n",
       "      <td>13</td>\n",
       "    </tr>\n",
       "    <tr>\n",
       "      <th>1</th>\n",
       "      <td>Yann</td>\n",
       "      <td>B</td>\n",
       "      <td>Lamp</td>\n",
       "      <td>2</td>\n",
       "      <td>38.0</td>\n",
       "      <td>76.0</td>\n",
       "      <td>241.0</td>\n",
       "      <td>2016-04-02</td>\n",
       "      <td>13</td>\n",
       "    </tr>\n",
       "    <tr>\n",
       "      <th>2</th>\n",
       "      <td>Yann</td>\n",
       "      <td>E</td>\n",
       "      <td>Book: Crime and Punishment</td>\n",
       "      <td>5</td>\n",
       "      <td>100.0</td>\n",
       "      <td>500.0</td>\n",
       "      <td>741.0</td>\n",
       "      <td>2016-04-03</td>\n",
       "      <td>13</td>\n",
       "    </tr>\n",
       "    <tr>\n",
       "      <th>3</th>\n",
       "      <td>Yann</td>\n",
       "      <td>E</td>\n",
       "      <td>Book: The noose</td>\n",
       "      <td>5</td>\n",
       "      <td>125.0</td>\n",
       "      <td>625.0</td>\n",
       "      <td>1366.0</td>\n",
       "      <td>2016-04-13</td>\n",
       "      <td>15</td>\n",
       "    </tr>\n",
       "    <tr>\n",
       "      <th>4</th>\n",
       "      <td>Yann</td>\n",
       "      <td>B</td>\n",
       "      <td>Lamp</td>\n",
       "      <td>1</td>\n",
       "      <td>38.0</td>\n",
       "      <td>38.0</td>\n",
       "      <td>1404.0</td>\n",
       "      <td>2016-04-22</td>\n",
       "      <td>16</td>\n",
       "    </tr>\n",
       "  </tbody>\n",
       "</table>\n",
       "</div>"
      ],
      "text/plain": [
       "  customer_name category                product_name  quantity  price  \\\n",
       "0          Yann        A                     bananas         3   55.0   \n",
       "1          Yann        B                        Lamp         2   38.0   \n",
       "2          Yann        E  Book: Crime and Punishment         5  100.0   \n",
       "3          Yann        E             Book: The noose         5  125.0   \n",
       "4          Yann        B                        Lamp         1   38.0   \n",
       "\n",
       "   amount_spent  cumulative_spend    datetime  weekofyear  \n",
       "0         165.0             165.0  2016-04-02          13  \n",
       "1          76.0             241.0  2016-04-02          13  \n",
       "2         500.0             741.0  2016-04-03          13  \n",
       "3         625.0            1366.0  2016-04-13          15  \n",
       "4          38.0            1404.0  2016-04-22          16  "
      ]
     },
     "execution_count": 39,
     "metadata": {},
     "output_type": "execute_result"
    }
   ],
   "source": [
    "# add a weekofyear column so that we can aggregate by the week:\n",
    "purchases_df = purchases_df.withColumn('weekofyear',\n",
    "                                       F.weekofyear(F.col('datetime')))\n",
    "purchases_df.limit(10).toPandas().head()"
   ]
  },
  {
   "cell_type": "code",
   "execution_count": 40,
   "metadata": {},
   "outputs": [
    {
     "name": "stdout",
     "output_type": "stream",
     "text": [
      "+-------------+----------+-----------------+\n",
      "|customer_name|weekofyear|sum(amount_spent)|\n",
      "+-------------+----------+-----------------+\n",
      "|     Geoffrey|        16|             50.0|\n",
      "|     Geoffrey|        18|            330.0|\n",
      "|     Geoffrey|        22|            525.0|\n",
      "|     Geoffrey|        24|            601.0|\n",
      "|       Jurgen|        17|            502.0|\n",
      "|       Jurgen|        18|            343.0|\n",
      "|       Jurgen|        22|            621.0|\n",
      "|         Yann|        13|            741.0|\n",
      "|         Yann|        15|            625.0|\n",
      "|         Yann|        16|             38.0|\n",
      "|         Yann|        17|            213.0|\n",
      "|         Yann|        18|            428.0|\n",
      "|         Yann|        21|            300.0|\n",
      "|         Yann|        23|            227.0|\n",
      "|       Yoshua|         5|            454.0|\n",
      "|       Yoshua|         6|           1121.0|\n",
      "|       Yoshua|        10|           1135.0|\n",
      "|       Yoshua|        14|            977.0|\n",
      "+-------------+----------+-----------------+\n",
      "\n"
     ]
    }
   ],
   "source": [
    "# aggregating by the week\n",
    "\n",
    "purchases_df.groupBy('customer_name', 'weekofyear').\\\n",
    "             sum('amount_spent').\\\n",
    "             orderBy('customer_name', 'weekofyear').show()"
   ]
  },
  {
   "cell_type": "code",
   "execution_count": null,
   "metadata": {},
   "outputs": [],
   "source": []
  }
 ],
 "metadata": {
  "kernelspec": {
   "display_name": "Python 3",
   "language": "python",
   "name": "python3"
  },
  "language_info": {
   "codemirror_mode": {
    "name": "ipython",
    "version": 3
   },
   "file_extension": ".py",
   "mimetype": "text/x-python",
   "name": "python",
   "nbconvert_exporter": "python",
   "pygments_lexer": "ipython3",
   "version": "3.7.2"
  }
 },
 "nbformat": 4,
 "nbformat_minor": 2
}
