{
 "cells": [
  {
   "cell_type": "code",
   "execution_count": 1,
   "metadata": {},
   "outputs": [],
   "source": [
    "from pyspark.sql import SparkSession\n",
    "\n",
    "ss = SparkSession.builder.\\\n",
    "     master('spark://spark-master:7077').\\\n",
    "     appName('week8lecture').getOrCreate()"
   ]
  },
  {
   "cell_type": "code",
   "execution_count": 2,
   "metadata": {},
   "outputs": [],
   "source": [
    "df = ss.read.json('hdfs://namenode/Users/vagrant/structured-2018-01-14-neworleans/*.json')"
   ]
  },
  {
   "cell_type": "code",
   "execution_count": 4,
   "metadata": {},
   "outputs": [
    {
     "data": {
      "text/plain": [
       "280"
      ]
     },
     "execution_count": 4,
     "metadata": {},
     "output_type": "execute_result"
    }
   ],
   "source": [
    "df.count() #how many json files in the directory. it's a function"
   ]
  },
  {
   "cell_type": "code",
   "execution_count": 5,
   "metadata": {},
   "outputs": [
    {
     "data": {
      "text/plain": [
       "['duration_ms',\n",
       " 'end_time_s',\n",
       " 'events',\n",
       " 'hp_hill_names',\n",
       " 'hp_hill_rotations',\n",
       " 'id',\n",
       " 'map',\n",
       " 'mode',\n",
       " 'platform',\n",
       " 'players',\n",
       " 'rounds',\n",
       " 'series_id',\n",
       " 'start_time_s',\n",
       " 'teams',\n",
       " 'title']"
      ]
     },
     "execution_count": 5,
     "metadata": {},
     "output_type": "execute_result"
    }
   ],
   "source": [
    "df.columns"
   ]
  },
  {
   "cell_type": "code",
   "execution_count": 6,
   "metadata": {},
   "outputs": [
    {
     "name": "stdout",
     "output_type": "stream",
     "text": [
      "+---------------+---------+-----+\n",
      "|            map|     mode|title|\n",
      "+---------------+---------+-----+\n",
      "|Ardennes Forest|Hardpoint|  ww2|\n",
      "|   London Docks|Hardpoint|  ww2|\n",
      "|   London Docks|Hardpoint|  ww2|\n",
      "|Ardennes Forest|Hardpoint|  ww2|\n",
      "|Ardennes Forest|Hardpoint|  ww2|\n",
      "+---------------+---------+-----+\n",
      "only showing top 5 rows\n",
      "\n"
     ]
    }
   ],
   "source": [
    "#select a few columns\n",
    "df.select('map','mode','title').show(5)"
   ]
  },
  {
   "cell_type": "code",
   "execution_count": 7,
   "metadata": {},
   "outputs": [
    {
     "name": "stdout",
     "output_type": "stream",
     "text": [
      "+---------------+---------+-----+\n",
      "|            map|     mode|title|\n",
      "+---------------+---------+-----+\n",
      "|Ardennes Forest|Hardpoint|  ww2|\n",
      "|   London Docks|Hardpoint|  ww2|\n",
      "|   London Docks|Hardpoint|  ww2|\n",
      "|Ardennes Forest|Hardpoint|  ww2|\n",
      "|Ardennes Forest|Hardpoint|  ww2|\n",
      "+---------------+---------+-----+\n",
      "\n"
     ]
    }
   ],
   "source": [
    "df.select('map','mode','title').limit(5).show()"
   ]
  },
  {
   "cell_type": "code",
   "execution_count": 8,
   "metadata": {},
   "outputs": [
    {
     "data": {
      "text/plain": [
       "Column<b'mode'>"
      ]
     },
     "execution_count": 8,
     "metadata": {},
     "output_type": "execute_result"
    }
   ],
   "source": [
    "# how to reference columns\n",
    "df.mode\n",
    "# or\n",
    "df['mode']"
   ]
  },
  {
   "cell_type": "code",
   "execution_count": 11,
   "metadata": {},
   "outputs": [
    {
     "name": "stdout",
     "output_type": "stream",
     "text": [
      "+-----------------+\n",
      "| avg(duration_ms)|\n",
      "+-----------------+\n",
      "|608682.1428571428|\n",
      "+-----------------+\n",
      "\n"
     ]
    }
   ],
   "source": [
    "# average (min, max etc.)\n",
    "# always need group by even you are not group by anything\n",
    "df.groupBy().avg('duration_ms').show()"
   ]
  },
  {
   "cell_type": "code",
   "execution_count": 12,
   "metadata": {},
   "outputs": [
    {
     "name": "stdout",
     "output_type": "stream",
     "text": [
      "+-----------------+\n",
      "| avg(duration_ms)|\n",
      "+-----------------+\n",
      "|608682.1428571428|\n",
      "+-----------------+\n",
      "\n"
     ]
    }
   ],
   "source": [
    "df.groupBy().agg({'duration_ms':'avg'}).show()"
   ]
  },
  {
   "cell_type": "code",
   "execution_count": 14,
   "metadata": {},
   "outputs": [
    {
     "name": "stdout",
     "output_type": "stream",
     "text": [
      "+-----------------+\n",
      "| avg(duration_ms)|\n",
      "+-----------------+\n",
      "|608682.1428571428|\n",
      "+-----------------+\n",
      "\n"
     ]
    }
   ],
   "source": [
    "import pyspark.sql.functions as F\n",
    "\n",
    "df.groupBy().agg(F.avg('duration_ms')).show()"
   ]
  },
  {
   "cell_type": "code",
   "execution_count": 15,
   "metadata": {},
   "outputs": [
    {
     "name": "stdout",
     "output_type": "stream",
     "text": [
      "+----------------+-----------------+\n",
      "|            mode| avg(duration_ms)|\n",
      "+----------------+-----------------+\n",
      "|       Hardpoint|636487.1794871795|\n",
      "|Capture The Flag|639394.3661971831|\n",
      "|Search & Destroy|549619.5652173914|\n",
      "+----------------+-----------------+\n",
      "\n"
     ]
    }
   ],
   "source": [
    "# group by\n",
    "df.groupBy('mode').agg(F.avg('duration_ms')).show()"
   ]
  },
  {
   "cell_type": "code",
   "execution_count": 16,
   "metadata": {},
   "outputs": [],
   "source": [
    "df1 = df.withColumn('duration_s',df.duration_ms/1000)"
   ]
  },
  {
   "cell_type": "code",
   "execution_count": 17,
   "metadata": {},
   "outputs": [
    {
     "name": "stdout",
     "output_type": "stream",
     "text": [
      "+----------+\n",
      "|duration_s|\n",
      "+----------+\n",
      "|     765.0|\n",
      "|     817.0|\n",
      "|     776.0|\n",
      "|     786.0|\n",
      "|     777.0|\n",
      "+----------+\n",
      "only showing top 5 rows\n",
      "\n"
     ]
    }
   ],
   "source": [
    "df1.select('duration_s').show(5)"
   ]
  },
  {
   "cell_type": "code",
   "execution_count": 20,
   "metadata": {},
   "outputs": [
    {
     "data": {
      "text/plain": [
       "[Row(teams=[Row(is_victor=False, name='ENIGMA6', round_scores=[24, 16, 21, 20, 31, 13, 18, 25, 4, 7, 21, 7, 0], score=207, side='home'), Row(is_victor=True, name='LUMINOSITY GAMING', round_scores=[17, 19, 27, 9, 5, 9, 20, 8, 32, 39, 8, 14, 13], score=220, side='away')])]"
      ]
     },
     "execution_count": 20,
     "metadata": {},
     "output_type": "execute_result"
    }
   ],
   "source": [
    "df.select('teams').take(1) # a row of rows"
   ]
  },
  {
   "cell_type": "code",
   "execution_count": 28,
   "metadata": {},
   "outputs": [],
   "source": [
    "# explode\n",
    "# toke my original table and explode it into two tables\n",
    "# alias, change column name to team\n",
    "teams_df = df.select('id',F.explode('teams').alias('team'))"
   ]
  },
  {
   "cell_type": "code",
   "execution_count": 29,
   "metadata": {},
   "outputs": [
    {
     "name": "stdout",
     "output_type": "stream",
     "text": [
      "+--------------------+--------------------+\n",
      "|                  id|                team|\n",
      "+--------------------+--------------------+\n",
      "|64d15a2d-2f3c-5a2...|[false, ENIGMA6, ...|\n",
      "|64d15a2d-2f3c-5a2...|[true, LUMINOSITY...|\n",
      "|1111848b-1bfb-5d6...|[false, LUMINOSIT...|\n",
      "|1111848b-1bfb-5d6...|[true, TEAM KALIB...|\n",
      "|1b615383-6e9e-589...|[true, MINDFREAK,...|\n",
      "+--------------------+--------------------+\n",
      "only showing top 5 rows\n",
      "\n"
     ]
    }
   ],
   "source": [
    "teams_df.show(5)"
   ]
  },
  {
   "cell_type": "code",
   "execution_count": 31,
   "metadata": {},
   "outputs": [
    {
     "data": {
      "text/plain": [
       "StructType(List(StructField(id,StringType,true),StructField(team,StructType(List(StructField(is_victor,BooleanType,true),StructField(name,StringType,true),StructField(round_scores,ArrayType(LongType,true),true),StructField(score,LongType,true),StructField(side,StringType,true))),true)))"
      ]
     },
     "execution_count": 31,
     "metadata": {},
     "output_type": "execute_result"
    }
   ],
   "source": [
    "teams_df.schema"
   ]
  },
  {
   "cell_type": "code",
   "execution_count": 32,
   "metadata": {},
   "outputs": [
    {
     "data": {
      "text/plain": [
       "[('id', 'string'),\n",
       " ('team',\n",
       "  'struct<is_victor:boolean,name:string,round_scores:array<bigint>,score:bigint,side:string>')]"
      ]
     },
     "execution_count": 32,
     "metadata": {},
     "output_type": "execute_result"
    }
   ],
   "source": [
    "teams_df.dtypes"
   ]
  },
  {
   "cell_type": "code",
   "execution_count": 33,
   "metadata": {},
   "outputs": [
    {
     "data": {
      "text/plain": [
       "[Row(id='64d15a2d-2f3c-5a28-844e-3d903d3cb9bc', team=Row(is_victor=False, name='ENIGMA6', round_scores=[24, 16, 21, 20, 31, 13, 18, 25, 4, 7, 21, 7, 0], score=207, side='home'))]"
      ]
     },
     "execution_count": 33,
     "metadata": {},
     "output_type": "execute_result"
    }
   ],
   "source": [
    "teams_df.take(1)"
   ]
  },
  {
   "cell_type": "code",
   "execution_count": 36,
   "metadata": {},
   "outputs": [
    {
     "name": "stdout",
     "output_type": "stream",
     "text": [
      "+--------------------+-----------------+\n",
      "|                  id|        team name|\n",
      "+--------------------+-----------------+\n",
      "|64d15a2d-2f3c-5a2...|          ENIGMA6|\n",
      "|64d15a2d-2f3c-5a2...|LUMINOSITY GAMING|\n",
      "|1111848b-1bfb-5d6...|LUMINOSITY GAMING|\n",
      "|1111848b-1bfb-5d6...|     TEAM KALIBER|\n",
      "|1b615383-6e9e-589...|        MINDFREAK|\n",
      "|1b615383-6e9e-589...| INCONTROL GAMING|\n",
      "|9cbc243f-ed67-565...|      RISE NATION|\n",
      "|9cbc243f-ed67-565...|           SPLYCE|\n",
      "|c1119828-62d8-512...|        FAZE CLAN|\n",
      "|c1119828-62d8-512...|     TEAM KALIBER|\n",
      "|09fd18b5-fc13-5ff...|      TEAM ENVYUS|\n",
      "|09fd18b5-fc13-5ff...|    EVIL GENIUSES|\n",
      "|a6183191-2641-57d...|LUMINOSITY GAMING|\n",
      "|a6183191-2641-57d...|        FAZE CLAN|\n",
      "|7873bd99-b6f8-579...| LIGHTNING PANDAS|\n",
      "|7873bd99-b6f8-579...|              EZG|\n",
      "|ba212c3d-3aa9-5d9...|           SPLYCE|\n",
      "|ba212c3d-3aa9-5d9...| LIGHTNING PANDAS|\n",
      "|c6634763-98f5-52e...|      RED RESERVE|\n",
      "|c6634763-98f5-52e...|        FAZE CLAN|\n",
      "+--------------------+-----------------+\n",
      "only showing top 20 rows\n",
      "\n"
     ]
    }
   ],
   "source": [
    "# want to get the name out. and change the column name to 'team name'\n",
    "teams_df.select('id',teams_df['team.name'].alias('team name')).show()"
   ]
  },
  {
   "cell_type": "code",
   "execution_count": 37,
   "metadata": {},
   "outputs": [
    {
     "name": "stdout",
     "output_type": "stream",
     "text": [
      "+--------------------+-----------------+\n",
      "|                  id|        team_name|\n",
      "+--------------------+-----------------+\n",
      "|64d15a2d-2f3c-5a2...|          ENIGMA6|\n",
      "|64d15a2d-2f3c-5a2...|LUMINOSITY GAMING|\n",
      "|1111848b-1bfb-5d6...|LUMINOSITY GAMING|\n",
      "|1111848b-1bfb-5d6...|     TEAM KALIBER|\n",
      "|1b615383-6e9e-589...|        MINDFREAK|\n",
      "|1b615383-6e9e-589...| INCONTROL GAMING|\n",
      "|9cbc243f-ed67-565...|      RISE NATION|\n",
      "|9cbc243f-ed67-565...|           SPLYCE|\n",
      "|c1119828-62d8-512...|        FAZE CLAN|\n",
      "|c1119828-62d8-512...|     TEAM KALIBER|\n",
      "|09fd18b5-fc13-5ff...|      TEAM ENVYUS|\n",
      "|09fd18b5-fc13-5ff...|    EVIL GENIUSES|\n",
      "|a6183191-2641-57d...|LUMINOSITY GAMING|\n",
      "|a6183191-2641-57d...|        FAZE CLAN|\n",
      "|7873bd99-b6f8-579...| LIGHTNING PANDAS|\n",
      "|7873bd99-b6f8-579...|              EZG|\n",
      "|ba212c3d-3aa9-5d9...|           SPLYCE|\n",
      "|ba212c3d-3aa9-5d9...| LIGHTNING PANDAS|\n",
      "|c6634763-98f5-52e...|      RED RESERVE|\n",
      "|c6634763-98f5-52e...|        FAZE CLAN|\n",
      "+--------------------+-----------------+\n",
      "only showing top 20 rows\n",
      "\n"
     ]
    }
   ],
   "source": [
    "# rename the column another way\n",
    "teams_df.select('id','team.name').withColumnRenamed('name','team_name').show()"
   ]
  },
  {
   "cell_type": "code",
   "execution_count": 38,
   "metadata": {},
   "outputs": [
    {
     "name": "stdout",
     "output_type": "stream",
     "text": [
      "+--------------------+--------------------+\n",
      "|                  id|              player|\n",
      "+--------------------+--------------------+\n",
      "|64d15a2d-2f3c-5a2...|[3, 1, 0, 1, 0, 0...|\n",
      "|64d15a2d-2f3c-5a2...|[2, 0, 0, 0, 0, 0...|\n",
      "|64d15a2d-2f3c-5a2...|[6, 3, 0, 3, 1, 0...|\n",
      "|64d15a2d-2f3c-5a2...|[4, 2, 0, 2, 0, 1...|\n",
      "|64d15a2d-2f3c-5a2...|[6, 0, 0, 1, 0, 0...|\n",
      "|64d15a2d-2f3c-5a2...|[4, 3, 1, 1, 0, 1...|\n",
      "|64d15a2d-2f3c-5a2...|[5, 1, 0, 0, 0, 0...|\n",
      "|64d15a2d-2f3c-5a2...|[4, 1, 0, 0, 0, 0...|\n",
      "|1111848b-1bfb-5d6...|[6, 0, 0, 1, 0, 0...|\n",
      "|1111848b-1bfb-5d6...|[7, 0, 0, 0, 1, 0...|\n",
      "|1111848b-1bfb-5d6...|[4, 2, 1, 2, 1, 2...|\n",
      "|1111848b-1bfb-5d6...|[4, 0, 0, 0, 0, 0...|\n",
      "|1111848b-1bfb-5d6...|[6, 1, 0, 3, 0, 0...|\n",
      "|1111848b-1bfb-5d6...|[5, 1, 0, 0, 0, 0...|\n",
      "|1111848b-1bfb-5d6...|[2, 0, 0, 0, 1, 0...|\n",
      "|1111848b-1bfb-5d6...|[6, 0, 0, 0, 1, 0...|\n",
      "|1b615383-6e9e-589...|[4, 1, 0, 0, 0, 1...|\n",
      "|1b615383-6e9e-589...|[3, 0, 0, 0, 0, 0...|\n",
      "|1b615383-6e9e-589...|[4, 1, 0, 1, 0, 0...|\n",
      "|1b615383-6e9e-589...|[4, 0, 0, 2, 1, 0...|\n",
      "+--------------------+--------------------+\n",
      "only showing top 20 rows\n",
      "\n"
     ]
    }
   ],
   "source": [
    "# explode the playes\n",
    "players_df = df.select('id',F.explode('players').alias('player'))\n",
    "players_df.show()"
   ]
  },
  {
   "cell_type": "code",
   "execution_count": 39,
   "metadata": {},
   "outputs": [
    {
     "data": {
      "text/plain": [
       "[Row(id='64d15a2d-2f3c-5a28-844e-3d903d3cb9bc', player=Row(2piece=3, 3piece=1, 4piece=0, 4streak=1, 5streak=0, 6streak=0, 7streak=0, 8+streak=0, accuracy=24.6, assists=14, avg_time_per_life_s=17.1, ctf_captures=None, ctf_defends=None, ctf_flag_carry_time_s=None, ctf_kill_carriers=None, ctf_pickups=None, ctf_returns=None, deaths=39, deaths_per_10min=30.6, fave_division='Airborne', fave_scorestreaks=['Fighter Pilot', 'Glide Bomb', 'Artillery Barrage'], fave_training='Hunker', fave_weapon='PPSh-41', headshots=2, hits=146, hp_captures=0, hp_defends=0, hp_hill_time_s=48, kd=0.9, kills=35, kills_per_10min=27.5, name='BLAZT', num_lives=40, scorestreaks_assists=0, scorestreaks_deployed=0, scorestreaks_earned=0, scorestreaks_kills=0, scorestreaks_used=0, shots=593, snd_1kill_round=None, snd_2kill_round=None, snd_3kill_round=None, snd_4kill_round=None, snd_defuses=None, snd_firstbloods=None, snd_firstdeaths=None, snd_pickups=None, snd_plants=None, snd_rounds=None, snd_sneak_defuses=None, snd_survives=None, stayed_alive_kills=22, suicides=0, team='ENIGMA6', team_deaths=1, team_kills=0, time_alive_s=683.9))]"
      ]
     },
     "execution_count": 39,
     "metadata": {},
     "output_type": "execute_result"
    }
   ],
   "source": [
    "players_df.take(1)"
   ]
  },
  {
   "cell_type": "code",
   "execution_count": 40,
   "metadata": {},
   "outputs": [],
   "source": [
    "# join team and palyer table\n",
    "\n",
    "joined_table = players_df.join(teams_df,players_df.id == teams_df.id)"
   ]
  },
  {
   "cell_type": "code",
   "execution_count": 41,
   "metadata": {},
   "outputs": [
    {
     "name": "stdout",
     "output_type": "stream",
     "text": [
      "+--------------------+--------------------+--------------------+--------------------+\n",
      "|                  id|              player|                  id|                team|\n",
      "+--------------------+--------------------+--------------------+--------------------+\n",
      "|64d15a2d-2f3c-5a2...|[3, 1, 0, 1, 0, 0...|64d15a2d-2f3c-5a2...|[true, LUMINOSITY...|\n",
      "|64d15a2d-2f3c-5a2...|[3, 1, 0, 1, 0, 0...|64d15a2d-2f3c-5a2...|[false, ENIGMA6, ...|\n",
      "|64d15a2d-2f3c-5a2...|[2, 0, 0, 0, 0, 0...|64d15a2d-2f3c-5a2...|[true, LUMINOSITY...|\n",
      "|64d15a2d-2f3c-5a2...|[2, 0, 0, 0, 0, 0...|64d15a2d-2f3c-5a2...|[false, ENIGMA6, ...|\n",
      "|64d15a2d-2f3c-5a2...|[6, 3, 0, 3, 1, 0...|64d15a2d-2f3c-5a2...|[true, LUMINOSITY...|\n",
      "+--------------------+--------------------+--------------------+--------------------+\n",
      "only showing top 5 rows\n",
      "\n"
     ]
    }
   ],
   "source": [
    "joined_table.show(5)"
   ]
  },
  {
   "cell_type": "code",
   "execution_count": 42,
   "metadata": {},
   "outputs": [
    {
     "name": "stdout",
     "output_type": "stream",
     "text": [
      "+----------------+\n",
      "|            mode|\n",
      "+----------------+\n",
      "|       Hardpoint|\n",
      "|Capture The Flag|\n",
      "|Search & Destroy|\n",
      "+----------------+\n",
      "\n"
     ]
    }
   ],
   "source": [
    "# show distinct value\n",
    "df.select('mode').distinct().show()"
   ]
  },
  {
   "cell_type": "code",
   "execution_count": 43,
   "metadata": {},
   "outputs": [],
   "source": [
    "# filter\n",
    "snd_df = df.filter(df.mode == 'Search & Destroy')"
   ]
  },
  {
   "cell_type": "code",
   "execution_count": 44,
   "metadata": {},
   "outputs": [
    {
     "data": {
      "text/plain": [
       "92"
      ]
     },
     "execution_count": 44,
     "metadata": {},
     "output_type": "execute_result"
    }
   ],
   "source": [
    "snd_df.count()"
   ]
  },
  {
   "cell_type": "code",
   "execution_count": null,
   "metadata": {},
   "outputs": [],
   "source": []
  },
  {
   "cell_type": "code",
   "execution_count": null,
   "metadata": {},
   "outputs": [],
   "source": []
  },
  {
   "cell_type": "code",
   "execution_count": null,
   "metadata": {},
   "outputs": [],
   "source": []
  },
  {
   "cell_type": "code",
   "execution_count": null,
   "metadata": {},
   "outputs": [],
   "source": []
  }
 ],
 "metadata": {
  "kernelspec": {
   "display_name": "Python 3",
   "language": "python",
   "name": "python3"
  },
  "language_info": {
   "codemirror_mode": {
    "name": "ipython",
    "version": 3
   },
   "file_extension": ".py",
   "mimetype": "text/x-python",
   "name": "python",
   "nbconvert_exporter": "python",
   "pygments_lexer": "ipython3",
   "version": "3.7.2"
  }
 },
 "nbformat": 4,
 "nbformat_minor": 2
}
