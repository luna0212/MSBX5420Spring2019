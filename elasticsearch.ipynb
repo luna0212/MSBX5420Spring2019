{
 "cells": [
  {
   "cell_type": "markdown",
   "metadata": {},
   "source": [
    "# Elastic Search "
   ]
  },
  {
   "cell_type": "code",
   "execution_count": 1,
   "metadata": {},
   "outputs": [],
   "source": [
    "import requests"
   ]
  },
  {
   "cell_type": "code",
   "execution_count": 3,
   "metadata": {},
   "outputs": [
    {
     "name": "stdout",
     "output_type": "stream",
     "text": [
      "{'name': 'GJfcAQP', 'cluster_name': 'elasticsearch', 'cluster_uuid': 'IhzXzag6T0qNX9bzo2wwUw', 'version': {'number': '5.6.16', 'build_hash': '3a740d1', 'build_date': '2019-03-13T15:33:36.565Z', 'build_snapshot': False, 'lucene_version': '6.6.1'}, 'tagline': 'You Know, for Search'}\n"
     ]
    }
   ],
   "source": [
    "r = requests.get(\"http://elasticsearch:9200\")\n",
    "if r.status_code != 200:\n",
    "    print(\"Error talking to Elasticsearch\")\n",
    "else:\n",
    "    print(r.json())"
   ]
  },
  {
   "cell_type": "markdown",
   "metadata": {},
   "source": [
    "# Listing indices"
   ]
  },
  {
   "cell_type": "code",
   "execution_count": 9,
   "metadata": {},
   "outputs": [
    {
     "name": "stdout",
     "output_type": "stream",
     "text": [
      "health status index   uuid                   pri rep docs.count docs.deleted store.size pri.store.size\n",
      "yellow open   .kibana 7x2xdoImSGKmzVQXmpuRgw   1   1          1            0      3.2kb          3.2kb\n",
      "\n"
     ]
    }
   ],
   "source": [
    "def print_es_indices():\n",
    "        r = requests.get(\"http://elasticsearch:9200/_cat/indices?v\")\n",
    "        if r.status_code != 200:\n",
    "            print(\"Error listing indices\")\n",
    "        else:\n",
    "        #    print(r.content)\n",
    "            print(r.text)\n",
    "            \n",
    "print_es_indices()"
   ]
  },
  {
   "cell_type": "markdown",
   "metadata": {},
   "source": [
    "# Creating indices"
   ]
  },
  {
   "cell_type": "code",
   "execution_count": 10,
   "metadata": {
    "scrolled": true
   },
   "outputs": [
    {
     "name": "stdout",
     "output_type": "stream",
     "text": [
      "Created\n"
     ]
    }
   ],
   "source": [
    "r = requests.put(\"http://elasticsearch:9200/textindex1\")\n",
    "if r.status_code != 200:\n",
    "    print(\"Error creating index\")\n",
    "else:\n",
    "    print(\"Created\")"
   ]
  },
  {
   "cell_type": "code",
   "execution_count": 15,
   "metadata": {},
   "outputs": [],
   "source": [
    "def create_index(index,index_config):\n",
    "    r = requests.put(\"http://elasticsearch:9200/{}\".format(index),\n",
    "                    json = index_config) #schema\n",
    "    if r.status_code != 200:\n",
    "        print(\"Error creating index\")\n",
    "    else:\n",
    "        print(\"Created\")"
   ]
  },
  {
   "cell_type": "code",
   "execution_count": 26,
   "metadata": {},
   "outputs": [
    {
     "name": "stdout",
     "output_type": "stream",
     "text": [
      "health status index     uuid                   pri rep docs.count docs.deleted store.size pri.store.size\n",
      "yellow open   testindex WFf-zmgsS62y6adKDscQ8w   5   1          2            0      8.7kb          8.7kb\n",
      "yellow open   textindex ibiyrvyISgS5fjrvzw1-BQ   5   1          1            0      4.4kb          4.4kb\n",
      "yellow open   .kibana   7x2xdoImSGKmzVQXmpuRgw   1   1          2            0        6kb            6kb\n",
      "\n"
     ]
    }
   ],
   "source": [
    "print_es_indices()"
   ]
  },
  {
   "cell_type": "markdown",
   "metadata": {},
   "source": [
    "# Delete a indice"
   ]
  },
  {
   "cell_type": "code",
   "execution_count": 12,
   "metadata": {},
   "outputs": [
    {
     "name": "stdout",
     "output_type": "stream",
     "text": [
      "deleted\n"
     ]
    }
   ],
   "source": [
    "requests.delete(\"http://elasticsearch:9200/textindex1\")\n",
    "if r.status_code != 200:\n",
    "    print(\"Error deleting index\")\n",
    "else:\n",
    "    print(\"deleted\")"
   ]
  },
  {
   "cell_type": "code",
   "execution_count": 21,
   "metadata": {},
   "outputs": [
    {
     "name": "stdout",
     "output_type": "stream",
     "text": [
      "health status index     uuid                   pri rep docs.count docs.deleted store.size pri.store.size\n",
      "yellow open   testindex WFf-zmgsS62y6adKDscQ8w   5   1          1            0      4.6kb          4.6kb\n",
      "yellow open   textindex ibiyrvyISgS5fjrvzw1-BQ   5   1          0            0       810b           810b\n",
      "yellow open   .kibana   7x2xdoImSGKmzVQXmpuRgw   1   1          1            0      3.2kb          3.2kb\n",
      "\n"
     ]
    }
   ],
   "source": [
    "print_es_indices()"
   ]
  },
  {
   "cell_type": "code",
   "execution_count": 30,
   "metadata": {},
   "outputs": [],
   "source": [
    "def delete_es_index(index):\n",
    "    requests.delete(\"http://elasticsearch:9200/{}\".format(index))\n",
    "    if r.status_code != 200:\n",
    "        print(\"Error deleting index\")\n",
    "    else:\n",
    "        print(\"Index deleted\")"
   ]
  },
  {
   "cell_type": "markdown",
   "metadata": {},
   "source": [
    "# Ingest messages into Elasticsearch"
   ]
  },
  {
   "cell_type": "code",
   "execution_count": 17,
   "metadata": {},
   "outputs": [],
   "source": [
    "#schema\n",
    "---------------- = {\n",
    "    \"mappings\":{\n",
    "        \"purchase_docs\":{# document TYPE\n",
    "            \"properties\":{\n",
    "                \"timestamp\":{\"type\":\"date\"},\n",
    "                \"location\":{\"type\":\"geo_point\"}\n",
    "            }\n",
    "\n",
    "        }\n",
    "    }\n",
    "}"
   ]
  },
  {
   "cell_type": "code",
   "execution_count": 18,
   "metadata": {},
   "outputs": [
    {
     "name": "stdout",
     "output_type": "stream",
     "text": [
      "Created\n"
     ]
    }
   ],
   "source": [
    "create_index(\"textindex\",index_config)"
   ]
  },
  {
   "cell_type": "code",
   "execution_count": 22,
   "metadata": {},
   "outputs": [],
   "source": [
    "msg = {\n",
    "    \"timestamp\":1555365719000,\n",
    "    \"location\":{\"lat\":40.76727216,\n",
    "                \"lon\":-73.99392888},\n",
    "    \"purchases\":5\n",
    "}"
   ]
  },
  {
   "cell_type": "code",
   "execution_count": 27,
   "metadata": {},
   "outputs": [
    {
     "name": "stdout",
     "output_type": "stream",
     "text": [
      "message sent\n"
     ]
    }
   ],
   "source": [
    "r = requests.post(\"http://elasticsearch:9200/testindex/purchase_docs\",\n",
    "             json = msg)\n",
    "\n",
    "if r.status_code != 201:\n",
    "    print(\"Error sending message\")\n",
    "else:\n",
    "    print(\"message sent\")"
   ]
  },
  {
   "cell_type": "code",
   "execution_count": 31,
   "metadata": {},
   "outputs": [
    {
     "name": "stdout",
     "output_type": "stream",
     "text": [
      "Error deleting index\n"
     ]
    }
   ],
   "source": [
    "delete_es_index(\".kibana\")"
   ]
  },
  {
   "cell_type": "code",
   "execution_count": null,
   "metadata": {},
   "outputs": [],
   "source": []
  }
 ],
 "metadata": {
  "kernelspec": {
   "display_name": "Python 3",
   "language": "python",
   "name": "python3"
  },
  "language_info": {
   "codemirror_mode": {
    "name": "ipython",
    "version": 3
   },
   "file_extension": ".py",
   "mimetype": "text/x-python",
   "name": "python",
   "nbconvert_exporter": "python",
   "pygments_lexer": "ipython3",
   "version": "3.7.2"
  }
 },
 "nbformat": 4,
 "nbformat_minor": 2
}
