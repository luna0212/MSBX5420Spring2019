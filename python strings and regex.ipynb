{
 "cells": [
  {
   "cell_type": "code",
   "execution_count": 4,
   "metadata": {},
   "outputs": [
    {
     "name": "stdout",
     "output_type": "stream",
     "text": [
      "Hello World\n",
      "Hello \n",
      "World\n",
      "Hello \\nWorld\n"
     ]
    }
   ],
   "source": [
    "# string literal\n",
    "str1 = \"Hello World\"\n",
    "print(str1)\n",
    "\n",
    "str2 = \"Hello \\nWorld\"\n",
    "print(str2)\n",
    "\n",
    "str3 = \"Hello \\\\nWorld\"\n",
    "print(str3)"
   ]
  },
  {
   "cell_type": "code",
   "execution_count": 6,
   "metadata": {},
   "outputs": [
    {
     "name": "stdout",
     "output_type": "stream",
     "text": [
      "That will cost you ₤5!\n"
     ]
    }
   ],
   "source": [
    "str4 = \"That will cost you \\u20A45!\"\n",
    "print(str4)"
   ]
  },
  {
   "cell_type": "code",
   "execution_count": 7,
   "metadata": {},
   "outputs": [
    {
     "name": "stdout",
     "output_type": "stream",
     "text": [
      "This is a \" coll string\n"
     ]
    }
   ],
   "source": [
    "str5 = \"This is a \\\" coll string\"\n",
    "print(str5)"
   ]
  },
  {
   "cell_type": "code",
   "execution_count": 10,
   "metadata": {},
   "outputs": [
    {
     "name": "stdout",
     "output_type": "stream",
     "text": [
      "This is a \\ back slash\n"
     ]
    }
   ],
   "source": [
    "str6 = \"This is a \\\\ back slash\"\n",
    "print(str6)"
   ]
  },
  {
   "cell_type": "code",
   "execution_count": 8,
   "metadata": {},
   "outputs": [
    {
     "name": "stdout",
     "output_type": "stream",
     "text": [
      "This is a\n",
      "cool string\n"
     ]
    }
   ],
   "source": [
    "str7 = \"\"\"This is a\n",
    "cool string\"\"\"\n",
    "print(str6)"
   ]
  },
  {
   "cell_type": "code",
   "execution_count": 9,
   "metadata": {},
   "outputs": [
    {
     "name": "stdout",
     "output_type": "stream",
     "text": [
      "This is a \n",
      "cool string\n"
     ]
    }
   ],
   "source": [
    "str8= '''This is a \n",
    "cool string'''\n",
    "print(str7)"
   ]
  },
  {
   "cell_type": "code",
   "execution_count": 12,
   "metadata": {},
   "outputs": [
    {
     "name": "stdout",
     "output_type": "stream",
     "text": [
      "I'm writing a\n",
      "          paragragh. blah blah blah\n"
     ]
    }
   ],
   "source": [
    "str9 = '''I'm writing a\n",
    "          paragragh. blah blah blah'''\n",
    "print(str9)"
   ]
  },
  {
   "cell_type": "code",
   "execution_count": 13,
   "metadata": {},
   "outputs": [
    {
     "name": "stdout",
     "output_type": "stream",
     "text": [
      "this is a cool \\nstring\n"
     ]
    }
   ],
   "source": [
    "# raw string\n",
    "str10 = r'this is a cool \\nstring'\n",
    "print(str10)"
   ]
  },
  {
   "cell_type": "code",
   "execution_count": 14,
   "metadata": {},
   "outputs": [],
   "source": [
    "logentry = 'maynard.isi.uconn.edu - - [28/Jul/1995:13:32:22 -0400] \"GET /images/shuttle-patch-logo.gif HTTP/1.0\" 200 891'"
   ]
  },
  {
   "cell_type": "code",
   "execution_count": 20,
   "metadata": {},
   "outputs": [],
   "source": [
    "#\\S none white space. \\s white space. ()group.* will match even is empty. + will match needs at least one thing.\n",
    "import re\n",
    "pattern = r'(\\S+)\\s+(\\S+)\\s+(\\S+)\\s+\\[(.*)\\]\\s+\"(.*)\"\\s+(\\d+)\\s+(\\S+)'"
   ]
  },
  {
   "cell_type": "code",
   "execution_count": 21,
   "metadata": {},
   "outputs": [],
   "source": [
    "myregex = re.compile(pattern)\n",
    "m = myregex.match(logentry)"
   ]
  },
  {
   "cell_type": "code",
   "execution_count": 22,
   "metadata": {},
   "outputs": [
    {
     "data": {
      "text/plain": [
       "('maynard.isi.uconn.edu',\n",
       " '-',\n",
       " '-',\n",
       " '28/Jul/1995:13:32:22 -0400',\n",
       " 'GET /images/shuttle-patch-logo.gif HTTP/1.0',\n",
       " '200',\n",
       " '891')"
      ]
     },
     "execution_count": 22,
     "metadata": {},
     "output_type": "execute_result"
    }
   ],
   "source": [
    "# Tuple\n",
    "m.groups()"
   ]
  },
  {
   "cell_type": "code",
   "execution_count": null,
   "metadata": {},
   "outputs": [],
   "source": []
  }
 ],
 "metadata": {
  "kernelspec": {
   "display_name": "Python 3",
   "language": "python",
   "name": "python3"
  },
  "language_info": {
   "codemirror_mode": {
    "name": "ipython",
    "version": 3
   },
   "file_extension": ".py",
   "mimetype": "text/x-python",
   "name": "python",
   "nbconvert_exporter": "python",
   "pygments_lexer": "ipython3",
   "version": "3.6.7"
  }
 },
 "nbformat": 4,
 "nbformat_minor": 2
}
